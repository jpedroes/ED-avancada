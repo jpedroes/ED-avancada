{
 "cells": [
  {
   "cell_type": "markdown",
   "metadata": {},
   "source": [
    "**Q1** Implemente um TAD para representar uma Hash Estendível Assuma que as chaves são valores inteiros entre 1 e n. O usuário informa o valor de n e o tamanho do bucket (ou seja, quantos elementos podem ser armazenados em um bucket) Esse TAD deverá conter funções para"
   ]
  },
  {
   "cell_type": "code",
   "execution_count": 61,
   "metadata": {},
   "outputs": [],
   "source": [
    "class NoHash:\n",
    "    def __init__(self, chave, valor=None):\n",
    "        self.valor = valor\n",
    "        self.chave = chave\n",
    "        self.bin = bin\n",
    "        self.next = None\n",
    "        \n",
    "class ListaEncadeada:\n",
    "    def __init__(self):\n",
    "        self.head = None\n",
    "        \n",
    "    def free_list(self, node):\n",
    "        if node is None:\n",
    "            print(\"nó invalido\")\n",
    "            return None\n",
    "        else:\n",
    "            if not(node.next is None):\n",
    "                self.free_list(node.next)\n",
    "        node.next = None\n",
    "        node = None\n",
    "        self.node_head = None\n",
    "        \n",
    "    def insereLista(self, noHash):\n",
    "        if self.head is None:\n",
    "            self.head = noHash\n",
    "        else:\n",
    "            itr = self.head\n",
    "            while not (itr.next is None):\n",
    "                itr = itr.next\n",
    "            itr.next = moHash\n",
    "    \n",
    "    def busca(self, noHash , itr):\n",
    "        if noHash is None:\n",
    "            print(\"nó invalido ou não encontrado\")\n",
    "            return None\n",
    "        else:\n",
    "            if noHash.chave is itr.chave:\n",
    "                print(\"encontrado\")\n",
    "                return itr.valor\n",
    "            elif not(itr.next is None):\n",
    "                return self.busca(noHash, itr.next)\n",
    "            else:\n",
    "                print(\"não encontrado\")\n",
    "                return -1\n",
    "    \n",
    "    def remove(self, noHash, node, pre=None):\n",
    "        if node is None:\n",
    "            print(\"nó invalido ou não encontrado\")\n",
    "            return None\n",
    "        else:\n",
    "            if node.chave is noHash.chave:\n",
    "                if pre is None:\n",
    "                    self.head = node.next\n",
    "                elif node.next is None:\n",
    "                    pre.next = None\n",
    "                else:\n",
    "                    pre.next = node.next\n",
    "                return    \n",
    "            if not(node.next is None):\n",
    "                self.remove(noHash, node.next, node)\n",
    "            else:\n",
    "                print(\"não encontrado\")\n",
    "    \n",
    "class Tabela:\n",
    "    def __init__(self, max_chave):\n",
    "        self.capacidade = max_chave // 2\n",
    "        print(self.capacidade)\n",
    "        self.tamanho = 0\n",
    "        self.elementos = [None] * self.capacidade\n",
    "        for i in range(len(self.elementos)):\n",
    "            print(i)\n",
    "            self.elementos[i] = ListaEncadeada()\n",
    "            \n",
    "    def func_hash(self, entrada):\n",
    "        return entrada%self.capacidade\n",
    "    \n",
    "    def insere(self, noHash):\n",
    "        hash_i = self.func_hash(noHash.chave)\n",
    "        \n",
    "        self.elementos[hash_i].insereLista(noHash)\n",
    "        self.tamanho = self.tamanho + 1\n",
    "        \n",
    "    def buscar(self, noHash):\n",
    "        hash_i = self.func_hash(noHash.chave)\n",
    "    \n",
    "        valor = self.elementos[hash_i].busca(noHash, self.elementos[hash_i].head)\n",
    "        \n",
    "        print(valor)\n",
    "        \n",
    "    def remove(self, noHash):\n",
    "        hash_i = self.func_hash(noHash.chave)\n",
    "        \n",
    "        self.elementos[hash_i].remove(noHash, self.elementos[hash_i].head)\n",
    "    \n",
    "    def libera(self):\n",
    "        for i in range(len(self.elementos)):\n",
    "            self.elementos[i].free_list\n",
    "        \n",
    "        \n",
    "        "
   ]
  },
  {
   "cell_type": "markdown",
   "metadata": {},
   "source": [
    "- Criar a Tabela de Dispersão:"
   ]
  },
  {
   "cell_type": "code",
   "execution_count": 62,
   "metadata": {},
   "outputs": [
    {
     "name": "stdout",
     "output_type": "stream",
     "text": [
      "5\n",
      "0\n",
      "1\n",
      "2\n",
      "3\n",
      "4\n"
     ]
    }
   ],
   "source": [
    "hasht = Tabela(10)\n"
   ]
  },
  {
   "cell_type": "markdown",
   "metadata": {},
   "source": [
    "- Inserir Elemento:"
   ]
  },
  {
   "cell_type": "code",
   "execution_count": 63,
   "metadata": {},
   "outputs": [],
   "source": [
    "no = NoHash(1, 'maçã')\n",
    "hasht.insere(no)"
   ]
  },
  {
   "cell_type": "markdown",
   "metadata": {},
   "source": [
    "- Buscar Elemento"
   ]
  },
  {
   "cell_type": "code",
   "execution_count": 64,
   "metadata": {},
   "outputs": [
    {
     "name": "stdout",
     "output_type": "stream",
     "text": [
      "encontrado\n",
      "maçã\n"
     ]
    }
   ],
   "source": [
    "no_busca = NoHash (1)\n",
    "hasht.buscar(no_busca)"
   ]
  },
  {
   "cell_type": "markdown",
   "metadata": {},
   "source": [
    "- Remover elemento"
   ]
  },
  {
   "cell_type": "code",
   "execution_count": 65,
   "metadata": {},
   "outputs": [],
   "source": [
    "no_del = NoHash(1)\n",
    "hasht.remove(no_del)"
   ]
  },
  {
   "cell_type": "markdown",
   "metadata": {},
   "source": [
    "- Liberar memoria"
   ]
  },
  {
   "cell_type": "code",
   "execution_count": 66,
   "metadata": {},
   "outputs": [],
   "source": [
    "hasht.libera()"
   ]
  }
 ],
 "metadata": {
  "kernelspec": {
   "display_name": "Python 3",
   "language": "python",
   "name": "python3"
  },
  "language_info": {
   "codemirror_mode": {
    "name": "ipython",
    "version": 3
   },
   "file_extension": ".py",
   "mimetype": "text/x-python",
   "name": "python",
   "nbconvert_exporter": "python",
   "pygments_lexer": "ipython3",
   "version": "3.7.3"
  }
 },
 "nbformat": 4,
 "nbformat_minor": 2
}
