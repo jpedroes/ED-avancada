{
 "cells": [
  {
   "cell_type": "markdown",
   "metadata": {},
   "source": [
    "**Q1** As funções $f(n)$ mostradas abaixo fornecem o tempo de processamento $T(n)$ de um algoritmo resolvendo um problema de tamanho $n$. Complete a tabela abaixo colocando, para cada algoritmo, sua complexidade ( $O$ maiúsculo ) e a ordem do mais eficiente para o menos eficiente. Em ca so de empate repita a ordem (por exemplo: $1º$ ,$2º$, $2º$, ....)"
   ]
  },
  {
   "cell_type": "markdown",
   "metadata": {},
   "source": [
    "<img src=\"tabela1.png\">"
   ]
  },
  {
   "cell_type": "markdown",
   "metadata": {},
   "source": [
    "**Resposta**:  \n",
    "$O(n^3)$            &rarr;11ª  \n",
    "$O(n^{1.5})$        &rarr;6ª  \n",
    "$O(n^{1.75})$       &rarr;7ª  \n",
    "$O(n^2log_2n)$     &rarr;10ª  \n",
    "$O(nlog_2n)$       &rarr;3ª  \n",
    "$O(log_8n)$        &rarr;1ª  \n",
    "$O(n^2)$            &rarr;8ª  \n",
    "$O(n^2)$            &rarr;9ª  \n",
    "$O(n^{1.25})$       &rarr;5ª  \n",
    "$O(n(log_2n)^2)$   &rarr;4ª  \n",
    "$O(n^3)$            &rarr;12ª  \n",
    "$O(log_4n)$        &rarr;2ª  "
   ]
  },
  {
   "cell_type": "markdown",
   "metadata": {},
   "source": [
    "**Q2** Os algoritmos abaixo são usados para resolver problemas de tamanho $n$. Descreva e informe para cada algoritmo sua complexidade no pior caso ($O$ maiúsculo/Ômicron). Tente entender o problema antes de apresentar uma resposta"
   ]
  },
  {
   "cell_type": "markdown",
   "metadata": {},
   "source": [
    "<img src=\"alg2a.png\">"
   ]
  },
  {
   "cell_type": "markdown",
   "metadata": {},
   "source": [
    "item **a)**"
   ]
  },
  {
   "cell_type": "markdown",
   "metadata": {},
   "source": [
    "**Resposta:**  \n",
    "primeiro **for** ocorre $log^2n$ vezes  \n",
    "segundo **for** ocorre $log^2n$ vezes, porém de maneira inversa\n",
    "terceiro **for** ocorre no pior caso n/2 vezes e no melhor caso 1 vez, no entanto considera-se o crescimento de n, logo O(n)  \n",
    "\n",
    "$log^2n * log^2n * n$ &rarr; O($n(log_2n)^2)$"
   ]
  },
  {
   "cell_type": "markdown",
   "metadata": {},
   "source": [
    "item **b)**"
   ]
  },
  {
   "cell_type": "markdown",
   "metadata": {},
   "source": [
    "<img src=\"alg2b.png\">"
   ]
  },
  {
   "cell_type": "markdown",
   "metadata": {},
   "source": [
    "**Resposta**:  \n",
    "primeiro **for** ocorre $n$ vezes  \n",
    "segundo **for** pode ocorrer uma vez quando $i = n-1$ e $n-1$ vezes quando $i=1$, logo considera-se $n$ vezes para $O()$  \n",
    "terceito **for** pode ocorrer no pior caso quando $i=n$ e $j=n$, 2n vezes, sendo no melhor caso 3 vezes $j=1$ e $i=2$, logo considerase O(n) também  \n",
    "sendo a função $O(n^3)$"
   ]
  },
  {
   "cell_type": "markdown",
   "metadata": {},
   "source": [
    "**Q3** Suponha um algoritmo $A$ e um algoritmo $B$ com funções de complexidade de tempo $a(n) = n^2 – n + 549$ e $b(n) = 49n + 49$, respectivamente. Determine quais são os valores de $n$ pertencentes ao conjunto dos números naturais para os quais $A$ leva menos tempo para executar do que $B$"
   ]
  },
  {
   "cell_type": "markdown",
   "metadata": {},
   "source": [
    "**Resposta**:\n",
    "- para calcular o ponto de intersecção das duas funções, onde com este o numero natural seguinte já será o valor de n em que b>a, temos:  \n",
    "        $n^2 - n + 549 = 49n + n$  \n",
    "        $n^2 - 50n + 500 = 0$  \n",
    "        na equação do segundo grau temos:  \n",
    "        $50^2 - 2000 = 500 para delta$\n",
    "        no bhaskara temos:  \n",
    "        $( 50+-\\sqrt(500) )/ 2$  \n",
    "        onde a raiz de 500 é apriximadamente 22.36:\n",
    "        logo as raizes são 72.36/2 = 36.18 e 27.64/2 = 13.81\n",
    "        por fim, para qualquer valor natural menor que 13 e maior que 37 a função A leva menos tempo que B"
   ]
  },
  {
   "cell_type": "markdown",
   "metadata": {},
   "source": [
    "**Q4** O Casamento de Padrões é um problema clássico em ciência da computação e é aplicado em áreas diversas como pesquisa genética, editoração de textos, buscas na internet, etc. Basicamente, ele consiste em encontrar as ocorrências de um padrão $P$ de tamanho $m$ em um texto $T$ de tamanho $n$. Por exemplo, no texto $T$ = “PROVA DE AEDSII” o padrão $P$ = “OVA” é encontrado na posição $3$ enquanto o padrão $P$ =“OVO” não é encontrado. O algoritmo mais simples para o casamento de padrões é o algoritmo da “Força Bruta”, mostrado abaixo. Analise esse algoritmo e responda: Qual é a função de complexidade do número de comparações de caracteres efetuadas no melhor caso e no pior caso. Dê exemplos de entradas que levam a esses dois casos. Explique sua resposta"
   ]
  },
  {
   "cell_type": "markdown",
   "metadata": {},
   "source": [
    "<img src=\"algq4.png\">"
   ]
  },
  {
   "cell_type": "markdown",
   "metadata": {},
   "source": [
    "**Resposta**:  \n",
    "- No melhor caso, a padrão $P$ entrada é o próprio texto $T$, de tal forma que estes são iguais, logo é necessário somente $m$ interações no while interno tendo o $i$ fixado no início do texto.  \n",
    "Ex: $T=\\{python\\}$ e $P=\\{python\\}$  \n",
    "- No pior caso pode ser encontrado quando o texto $T$ é composto todo de caracteres iguais e o padrão $P$ é composto por $m-1$ caracteres iguais aos de $T$ e o ultimo diferente, obrigando assim o for executar $n$ vezes e o while $m-1$ vezes para cada n, tornando assim O(nm).  \n",
    "Ex: $T=\\{AAAAA...A\\}$ e $P=\\{AAA...A1\\}$"
   ]
  },
  {
   "cell_type": "markdown",
   "metadata": {},
   "source": [
    "**Q5** Considere que você tenha um problema para resolver e duas opções de algoritmos. O primeiro algoritmo é quadrático tanto no pior caso quanto no melhor caso. Já o segundo algoritmo, é linear no melhor caso e cúbico no pior caso. Considerando que o melhor caso ocorre $90\\%$ das vezes que você executa o programa enquanto o pior caso ocorre apenas $10\\%$ das vezes, qual algoritmo você escolheria? Justifique a sua resposta em função do tamanho da entrada"
   ]
  },
  {
   "cell_type": "markdown",
   "metadata": {},
   "source": [
    "**Resposta**:\n",
    "    Ao modelar o algoritmo quadrático teriamos $n^2$ em $100\\%$ das vezes, logo para simplificar $100n^2$, já o segundo algoritmo teremos $n$ em $90\\%$ das vezes, $90n$ e $n^3$ em $10\\%$, na composição $10n^3 - 90n$.  \n",
    "    Com tal formulação, ao executar uma entrada $n = 10$ qualquer, 100 vezes, resultaria em $10$ mil operações para o primeiro algoritmo e $10900$ operações para o segundo algoritmo considerando as porcentagens de cada caso (pior e melhor). Desta forma quanto maior a entrada, maior a diferença entre os algoritmos, de forma que a escolha mais segura é o primeiro algoritmo."
   ]
  },
  {
   "cell_type": "markdown",
   "metadata": {},
   "source": [
    "**Q6**  Perdido em uma terra muito distante, você se encontra em frente a um muro de comprimento infinito para os dois lados (esquerda e direita). Em meio a uma escuridão total, você carrega um lampião que lhe possibilita ver apenas a porção do muro que se encontra exatamente à sua frente (o campo de visão que o lampião lhe proporciona equivale exatamente ao tamanho de um passo seu). Existe uma porta no muro que você deseja atravessar. Supondo que a mesma esteja a n passos de sua posição inicial (não se sabe se à direita ou à esquerda), elabore um algoritmo para caminhar ao longo do muro que encontre a porta em O(n) passos. Considere que n é um valor desconhecido (informaçãopertencente à instância). Considere que a ação composta por dar um passo e verificar a posição do muro correspondente custa O(1)."
   ]
  },
  {
   "cell_type": "markdown",
   "metadata": {},
   "source": [
    "**Resposta**: Para resolver em $O(n)$, escolhemos aleatoriamente um lado para explorar, e então, seguimos $n$ passos nesta direção. Ao concluir o deslocamento executa a ação de verificar a existência da porta, se houver porta, o problema foi resolvido em $n$ passos. Porém se não houver a porta, por exclusão, a porta estará distante da origem $n$ passos em direção contrária da escolhida inicialmente. Para encontrar a porta, deve se executar $n$ passos de volta para o ponto de origem, e por fim, $n$ passos até o ponto em que se encontra a porta. No pior caso $3n$ passos, sendo assim O(n)."
   ]
  },
  {
   "cell_type": "code",
   "execution_count": null,
   "metadata": {},
   "outputs": [],
   "source": []
  }
 ],
 "metadata": {
  "kernelspec": {
   "display_name": "Python 3",
   "language": "python",
   "name": "python3"
  },
  "language_info": {
   "codemirror_mode": {
    "name": "ipython",
    "version": 3
   },
   "file_extension": ".py",
   "mimetype": "text/x-python",
   "name": "python",
   "nbconvert_exporter": "python",
   "pygments_lexer": "ipython3",
   "version": "3.7.3"
  }
 },
 "nbformat": 4,
 "nbformat_minor": 2
}
