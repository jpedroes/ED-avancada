{
 "cells": [
  {
   "cell_type": "markdown",
   "metadata": {},
   "source": [
    "# Tads e Listas\n",
    "\n"
   ]
  },
  {
   "cell_type": "markdown",
   "metadata": {},
   "source": [
    "**Q2** Implemente um TAD para representar uma lista encadeada ordenada capaz de armazenar valores inteiros. Esse TAD deverá conter funções para:"
   ]
  },
  {
   "cell_type": "code",
   "execution_count": 51,
   "metadata": {},
   "outputs": [],
   "source": [
    "class Node:\n",
    "    def __init__(self, value=None):\n",
    "        self.info = value\n",
    "        self.next = None\n",
    "\n",
    "    def __del__(self):\n",
    "        print (\"deleted\")\n",
    "    \n",
    "class List:\n",
    "    def __init__(self):\n",
    "        self.node_head = None    \n",
    "        \n",
    "    def getHead(self):\n",
    "        return self.node_head\n",
    "    \n",
    "    #inserção recursiva\n",
    "    def setNode(self, node):\n",
    "        itr = self.node_head\n",
    "        \n",
    "        pre = None   \n",
    "        while (not(itr is None)) and itr.info < node.info:\n",
    "            #print(itr.info)\n",
    "            pre = itr\n",
    "            itr = itr.next\n",
    "        \n",
    "        if pre is None:\n",
    "            node.next = itr\n",
    "            self.node_head = node\n",
    "            return\n",
    "        else:\n",
    "            node.next = pre.next\n",
    "            pre.next = node\n",
    "            return\n",
    "        \n",
    "    def print_w(self):\n",
    "        itr = self.node_head\n",
    "        while not(itr is None):\n",
    "            print(itr.info)\n",
    "            itr = itr.next\n",
    "                \n",
    "    def print_list(self, node):\n",
    "        if not(node is None):\n",
    "            print(node.info)\n",
    "            self.print_list(node.next)\n",
    "            \n",
    "    def print_reverse(self, node):\n",
    "        if not(node is None):\n",
    "            self.print_reverse(node.next)\n",
    "            print(node.info)\n",
    "        \n",
    "    def is_empty(self):\n",
    "        if self.node_head is None:\n",
    "            return 1\n",
    "        return 0    \n",
    "    \n",
    "    def find(self, value, node):\n",
    "        if node is None:\n",
    "            print(\"nó invalido ou não encontrado\")\n",
    "            return None\n",
    "        else:\n",
    "            if node.info is value:\n",
    "                return value\n",
    "            elif not(node.next is None):\n",
    "                return self.find(value, node.next)\n",
    "            else:\n",
    "                print(\"não encontrado\")\n",
    "                return None\n",
    "    \n",
    "    def remove_rec(self, value, node, pre=None):\n",
    "        if node is None:\n",
    "            print(\"nó invalido ou não encontrado\")\n",
    "            return None\n",
    "        else:\n",
    "            if node.info is value:\n",
    "                #return value\n",
    "                if pre is None:\n",
    "                    self.node_head = node.next\n",
    "                    return \n",
    "                elif node.next is None:\n",
    "                    pre.next = None\n",
    "                    return \n",
    "                else:\n",
    "                    pre.next = node.next\n",
    "                    return    \n",
    "            if not(node.next is None):\n",
    "                self.remove_rec(value, node.next, node)\n",
    "            else:\n",
    "                print(\"não encontrado\")\n",
    "                return\n",
    "                \n",
    "    \n",
    "    def remove(self, value):\n",
    "        node = self.node_head\n",
    "        if node is None:\n",
    "            print(\"nó invalido ou não encontrado\")\n",
    "            return None\n",
    "        else:\n",
    "            pre = None\n",
    "            while not(node is None):\n",
    "                if node.info is value:\n",
    "                    if pre is None:\n",
    "                        self.node_head = node.next\n",
    "                        node = None\n",
    "                    elif node.next is Nonde:\n",
    "                        pre.next = None\n",
    "                        node = None\n",
    "                    else:\n",
    "                        pre.next = node.next\n",
    "                        node = None\n",
    "                else:\n",
    "                    if node.next is None:\n",
    "                        print(\"Não encontrado\")\n",
    "                        node = None\n",
    "                    else:\n",
    "                        pre = node\n",
    "                        node = node.next\n",
    "                    \n",
    "    def free_list(self, node):\n",
    "        if node is None:\n",
    "            print(\"nó invalido\")\n",
    "            return None\n",
    "        else:\n",
    "            if not(node.next is None):\n",
    "                self.free_list(node.next)\n",
    "        node.next = None\n",
    "        node = None\n",
    "        self.node_head = None\n",
    "        \n",
    "    def compare(self, list1):\n",
    "        #head1 = list1.head_node\n",
    "        itr = self.node_head\n",
    "        itr1 = list1.node_head\n",
    "        while not((itr is None) and (itr1 is None)):\n",
    "            print(itr.info)\n",
    "            print(itr1.info)\n",
    "            \n",
    "            if not(itr.info is itr1.info):\n",
    "                print(\"não igual\")\n",
    "                return None\n",
    "            itr = itr.next\n",
    "            itr1 = itr1.next\n",
    "            \n",
    "        print(\"listas iguais\")\n",
    "    "
   ]
  },
  {
   "cell_type": "markdown",
   "metadata": {},
   "source": [
    "- Criar uma lista vazia\n"
   ]
  },
  {
   "cell_type": "code",
   "execution_count": 52,
   "metadata": {},
   "outputs": [
    {
     "name": "stdout",
     "output_type": "stream",
     "text": [
      "<__main__.List object at 0x00000204BFD44A58>\n"
     ]
    }
   ],
   "source": [
    "my_list = List()\n",
    "print(my_list)"
   ]
  },
  {
   "cell_type": "markdown",
   "metadata": {},
   "source": [
    "- Inserir elemento no início;"
   ]
  },
  {
   "cell_type": "code",
   "execution_count": 53,
   "metadata": {},
   "outputs": [
    {
     "name": "stdout",
     "output_type": "stream",
     "text": [
      "deleted\n",
      "deleted\n",
      "deleted\n",
      "deleted\n"
     ]
    }
   ],
   "source": [
    "my_list1 = List()\n",
    "node1 = Node(2)\n",
    "node2 = Node(1)\n",
    "node3 = Node(3)\n",
    "my_list1.setNode(node1)\n",
    "my_list1.setNode(node2)\n",
    "my_list1.setNode(node3)"
   ]
  },
  {
   "cell_type": "markdown",
   "metadata": {},
   "source": [
    "- Imprimir os valores armazenados na lista usando recursão"
   ]
  },
  {
   "cell_type": "code",
   "execution_count": 54,
   "metadata": {},
   "outputs": [
    {
     "name": "stdout",
     "output_type": "stream",
     "text": [
      "1\n",
      "2\n",
      "3\n"
     ]
    }
   ],
   "source": [
    "my_list1.print_w()"
   ]
  },
  {
   "cell_type": "markdown",
   "metadata": {},
   "source": [
    "- Imprimir os valores armazenados na lista usando recursão"
   ]
  },
  {
   "cell_type": "code",
   "execution_count": 55,
   "metadata": {},
   "outputs": [
    {
     "name": "stdout",
     "output_type": "stream",
     "text": [
      "1\n",
      "2\n",
      "3\n"
     ]
    }
   ],
   "source": [
    "my_list1.print_list(my_list1.node_head)"
   ]
  },
  {
   "cell_type": "markdown",
   "metadata": {},
   "source": [
    "- Imprimir os valores armazenados na lista em ordem reversa"
   ]
  },
  {
   "cell_type": "code",
   "execution_count": 56,
   "metadata": {},
   "outputs": [
    {
     "name": "stdout",
     "output_type": "stream",
     "text": [
      "3\n",
      "2\n",
      "1\n"
     ]
    }
   ],
   "source": [
    "my_list1.print_reverse(my_list1.node_head)"
   ]
  },
  {
   "cell_type": "markdown",
   "metadata": {},
   "source": [
    "- Verificar se a lista está vazia (retorna 1 se vazia ou 0 se não vazia)"
   ]
  },
  {
   "cell_type": "code",
   "execution_count": 57,
   "metadata": {},
   "outputs": [
    {
     "name": "stdout",
     "output_type": "stream",
     "text": [
      "1\n",
      "0\n"
     ]
    }
   ],
   "source": [
    "print(my_list.is_empty())\n",
    "print(my_list1.is_empty())"
   ]
  },
  {
   "cell_type": "markdown",
   "metadata": {},
   "source": [
    "- Recuperar/Buscar um determinado elemento da lista"
   ]
  },
  {
   "cell_type": "code",
   "execution_count": 58,
   "metadata": {},
   "outputs": [
    {
     "name": "stdout",
     "output_type": "stream",
     "text": [
      "1\n",
      "não encontrado\n",
      "None\n"
     ]
    }
   ],
   "source": [
    "print(my_list1.find(1,  my_list1.node_head))\n",
    "print(my_list1.find(77, my_list1.node_head))\n",
    "\n"
   ]
  },
  {
   "cell_type": "markdown",
   "metadata": {},
   "source": [
    "- Remover um determinado elemento da lista"
   ]
  },
  {
   "cell_type": "code",
   "execution_count": 59,
   "metadata": {},
   "outputs": [
    {
     "name": "stdout",
     "output_type": "stream",
     "text": [
      "deleted\n",
      "deleted\n",
      "2\n",
      "3\n",
      "removido\n",
      "3\n"
     ]
    }
   ],
   "source": [
    "my_list2 = List()\n",
    "no1 = Node(3)\n",
    "my_list2.setNode(no1)\n",
    "no2 = Node(2)\n",
    "my_list2.setNode(no2)\n",
    "my_list2.print_list(my_list2.node_head)\n",
    "my_list2.remove(2)\n",
    "print(\"removido\")\n",
    "my_list2.print_list(my_list2.node_head)\n"
   ]
  },
  {
   "cell_type": "markdown",
   "metadata": {},
   "source": [
    "- Remover um determinado elemento da lista usando recursão"
   ]
  },
  {
   "cell_type": "code",
   "execution_count": 47,
   "metadata": {},
   "outputs": [
    {
     "name": "stdout",
     "output_type": "stream",
     "text": [
      "deleted\n",
      "1\n",
      "2\n",
      "3\n",
      "4\n",
      "5\n"
     ]
    }
   ],
   "source": [
    "n4 = Node(4)\n",
    "my_list1.setNode(n4)\n",
    "n5 = Node(5)\n",
    "my_list1.setNode(n5)\n",
    "my_list1.print_list(my_list1.node_head)\n"
   ]
  },
  {
   "cell_type": "code",
   "execution_count": 48,
   "metadata": {},
   "outputs": [
    {
     "name": "stdout",
     "output_type": "stream",
     "text": [
      "removido o ultimo\n",
      "1\n",
      "2\n",
      "3\n",
      "4\n",
      "removido o primeiro\n",
      "2\n",
      "3\n",
      "4\n",
      "removido o meio\n",
      "2\n",
      "4\n"
     ]
    }
   ],
   "source": [
    "my_list1.remove_rec(5, my_list1.node_head)\n",
    "print(\"removido o ultimo\")\n",
    "my_list1.print_list(my_list1.node_head)\n",
    "my_list1.remove_rec(1, my_list1.node_head)\n",
    "print(\"removido o primeiro\")\n",
    "my_list1.print_list(my_list1.node_head)\n",
    "my_list1.remove_rec(3, my_list1.node_head)\n",
    "print(\"removido o meio\")\n",
    "my_list1.print_list(my_list1.node_head)"
   ]
  },
  {
   "cell_type": "markdown",
   "metadata": {},
   "source": [
    "- Liberar a lista"
   ]
  },
  {
   "cell_type": "code",
   "execution_count": 49,
   "metadata": {},
   "outputs": [],
   "source": [
    "my_list1.free_list(my_list1.node_head)\n",
    "my_list1.print_list(my_list1.node_head)"
   ]
  },
  {
   "cell_type": "markdown",
   "metadata": {},
   "source": [
    "- Comaparar duas listas"
   ]
  },
  {
   "cell_type": "code",
   "execution_count": 50,
   "metadata": {},
   "outputs": [
    {
     "name": "stdout",
     "output_type": "stream",
     "text": [
      "1\n",
      "1\n",
      "listas iguais\n",
      "1\n",
      "4\n",
      "não igual\n"
     ]
    }
   ],
   "source": [
    "list1 = List()\n",
    "list2 = List()\n",
    "list4 = List()\n",
    "\n",
    "n1 = Node(1)\n",
    "n2 = Node(2)\n",
    "n4 = Node(4)\n",
    "\n",
    "list1.setNode(n1)\n",
    "list2.setNode(n1)\n",
    "list4.setNode(n4)\n",
    "\n",
    "list1.compare(list2)\n",
    "list1.setNode(n2)\n",
    "list1.compare(list4)"
   ]
  }
 ],
 "metadata": {
  "kernelspec": {
   "display_name": "Python 3",
   "language": "python",
   "name": "python3"
  }
 },
 "nbformat": 4,
 "nbformat_minor": 2
}
