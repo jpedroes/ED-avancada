{
 "cells": [
  {
   "cell_type": "markdown",
   "metadata": {},
   "source": [
    "# Tads e Listas\n",
    "\n"
   ]
  },
  {
   "cell_type": "markdown",
   "metadata": {},
   "source": [
    "**Q2** Implemente um TAD para representar uma lista encadeada ordenada capaz de armazenar valores inteiros. Esse TAD deverá conter funções para:"
   ]
  },
  {
   "cell_type": "code",
   "execution_count": null,
   "metadata": {},
   "outputs": [],
   "source": [
    "class Node:\n",
    "    def __init__(self, value=None):\n",
    "        self.info = value\n",
    "        self.next = None\n",
    "\n",
    "    def __del__(self):\n",
    "        print (\"deleted\")\n",
    "    \n",
    "class List:\n",
    "    def __init__(self):\n",
    "        self.node_head = None    \n",
    "    \n",
    "    #inserção recursiva\n",
    "    def setNode(self, node):\n",
    "        itr = self.node_head\n",
    "        \n",
    "        pre = None   \n",
    "        while (not(itr is None)) and itr.info < node.info:\n",
    "            #print(itr.info)\n",
    "            pre = itr\n",
    "            itr = itr.next\n",
    "        \n",
    "        if pre is None:\n",
    "            node.next = itr\n",
    "            self.node_head = node\n",
    "            return\n",
    "        else:\n",
    "            node.next = pre.next\n",
    "            pre.next = node\n",
    "            return\n",
    "        \n",
    "    def print_w(self):\n",
    "        itr = self.node_head\n",
    "        while not(itr is None):\n",
    "            print(itr.info)\n",
    "            itr = itr.next\n",
    "                \n",
    "    def print_list(self, node):\n",
    "        if not(node is None):\n",
    "            print(node.info)\n",
    "            self.print_list(node.next)\n",
    "            \n",
    "    def print_reverse(self, node):\n",
    "        if not(node is None):\n",
    "            self.print_reverse(node.next)\n",
    "            print(node.info)\n",
    "        \n",
    "    def is_empty(self):\n",
    "        print(self.node_head)\n",
    "        if self.node_head is None:\n",
    "            return 1\n",
    "        return 0    \n",
    "    \n",
    "    def find(self, value, node):\n",
    "        if node is None:\n",
    "            print(\"nó invalido ou não encontrado\")\n",
    "            return None\n",
    "        else:\n",
    "            if node.info is value:\n",
    "                return value\n",
    "            elif not(node.next is None):\n",
    "                return self.find(value, node.next)\n",
    "            else:\n",
    "                print(\"não encontrado\")\n",
    "                return None\n",
    "    \n",
    "    def remove_rec(self, value, node, pre=None):\n",
    "        if node is None:\n",
    "            print(\"nó invalido ou não encontrado\")\n",
    "            return None\n",
    "        else:\n",
    "            if node.info is value:\n",
    "                #return value\n",
    "                if pre is None:\n",
    "                    self.node_head = node.next\n",
    "                elif node.next is None:\n",
    "                    pre.next = None\n",
    "                else:\n",
    "                    pre.next = node.next\n",
    "                return    \n",
    "            if not(node.next is None):\n",
    "                self.remove_rec(value, node.next, node)\n",
    "            else:\n",
    "                print(\"não encontrado\")\n",
    "                \n",
    "    \n",
    "    def remove(self, value):\n",
    "        node = self.node_head\n",
    "        if node is None:\n",
    "            print(\"nó invalido ou não encontrado\")\n",
    "            return None\n",
    "        else:\n",
    "            pre = None\n",
    "            while not(node is None):\n",
    "                if node.info is value:\n",
    "                    if pre is None:\n",
    "                        self.node_head = node.next\n",
    "                    elif node.next is Nonde:\n",
    "                        pre.next = None\n",
    "                    else:\n",
    "                        pre.next = node.next\n",
    "                else:\n",
    "                    if node.next is None:\n",
    "                        print(\"Não encontrado\")\n",
    "                        return\n",
    "                    else:\n",
    "                        pre = node\n",
    "                        node = node.next\n",
    "                    \n",
    "    def free_list(self, node):\n",
    "        if node is None:\n",
    "            print(\"nó invalido\")\n",
    "            return None\n",
    "        else:\n",
    "            if not(node.next is None):\n",
    "                self.free_list(node.next)\n",
    "            del node\n",
    "\n",
    "        \n",
    "    def compare(self, list1, list2):\n",
    "        head1 = list1.head_node\n",
    "        head2 = list2.head_node\n",
    "        while not(head1 is None) and not(head2 is None):\n",
    "            if not(head1.info is head2.info):\n",
    "                print(\"não igual\")\n",
    "                return\n",
    "        print(\"listas iguais\")\n",
    "    "
   ]
  },
  {
   "cell_type": "markdown",
   "metadata": {},
   "source": [
    "- Criar uma lista vazia\n"
   ]
  },
  {
   "cell_type": "code",
   "execution_count": 3,
   "metadata": {},
   "outputs": [
    {
     "name": "stdout",
     "output_type": "stream",
     "text": [
      "<__main__.List object at 0x0000019CFFBB1080>\n"
     ]
    }
   ],
   "source": [
    "my_list = List()\n",
    "print(my_list)"
   ]
  },
  {
   "cell_type": "markdown",
   "metadata": {},
   "source": [
    "- Inserir elemento no início;"
   ]
  },
  {
   "cell_type": "code",
   "execution_count": 4,
   "metadata": {},
   "outputs": [],
   "source": [
    "my_list1 = List()\n",
    "node1 = Node(2)\n",
    "node2 = Node(1)\n",
    "node3 = Node(3)\n",
    "my_list1.setNode(node1)\n",
    "my_list1.setNode(node2)\n",
    "my_list1.setNode(node3)\n",
    "\n"
   ]
  },
  {
   "cell_type": "markdown",
   "metadata": {},
   "source": [
    "- Imprimir os valores armazenados na lista usando recursão"
   ]
  },
  {
   "cell_type": "code",
   "execution_count": 5,
   "metadata": {},
   "outputs": [
    {
     "name": "stdout",
     "output_type": "stream",
     "text": [
      "1\n",
      "2\n",
      "3\n"
     ]
    }
   ],
   "source": [
    "my_list1.print_w()"
   ]
  },
  {
   "cell_type": "markdown",
   "metadata": {},
   "source": [
    "- Imprimir os valores armazenados na lista usando recursão"
   ]
  },
  {
   "cell_type": "code",
   "execution_count": 6,
   "metadata": {},
   "outputs": [
    {
     "name": "stdout",
     "output_type": "stream",
     "text": [
      "1\n",
      "2\n",
      "3\n"
     ]
    }
   ],
   "source": [
    "my_list1.print_list(my_list1.node_head)"
   ]
  },
  {
   "cell_type": "markdown",
   "metadata": {},
   "source": [
    "- Imprimir os valores armazenados na lista em ordem reversa"
   ]
  },
  {
   "cell_type": "code",
   "execution_count": 7,
   "metadata": {},
   "outputs": [
    {
     "name": "stdout",
     "output_type": "stream",
     "text": [
      "3\n",
      "2\n",
      "1\n"
     ]
    }
   ],
   "source": [
    "my_list1.print_reverse(my_list1.node_head)"
   ]
  },
  {
   "cell_type": "markdown",
   "metadata": {},
   "source": [
    "- Verificar se a lista está vazia (retorna 1 se vazia ou 0 se não vazia)"
   ]
  },
  {
   "cell_type": "code",
   "execution_count": 8,
   "metadata": {},
   "outputs": [
    {
     "name": "stdout",
     "output_type": "stream",
     "text": [
      "None\n",
      "1\n",
      "<__main__.Node object at 0x0000019CFFBB1E80>\n",
      "0\n"
     ]
    }
   ],
   "source": [
    "print(my_list.is_empty())\n",
    "print(my_list1.is_empty())\n"
   ]
  },
  {
   "cell_type": "markdown",
   "metadata": {},
   "source": [
    "- Recuperar/Buscar um determinado elemento da lista"
   ]
  },
  {
   "cell_type": "code",
   "execution_count": 9,
   "metadata": {},
   "outputs": [
    {
     "name": "stdout",
     "output_type": "stream",
     "text": [
      "1\n",
      "não encontrado\n",
      "None\n"
     ]
    }
   ],
   "source": [
    "n3 = Node(3)\n",
    "my_list1.setNode(n3)\n",
    "print(my_list1.find(1,  my_list1.node_head))\n",
    "print(my_list1.find(77, my_list1.node_head))\n",
    "\n"
   ]
  },
  {
   "cell_type": "markdown",
   "metadata": {},
   "source": [
    "- Remover um determinado elemento da lista"
   ]
  },
  {
   "cell_type": "code",
   "execution_count": null,
   "metadata": {},
   "outputs": [],
   "source": [
    "my_list2 = List()\n",
    "no1 = Node(3)\n",
    "my_list2.setNode(no1)\n",
    "no2 = Node(2)\n",
    "my_list2.setNode(no2)\n",
    "my_list2.print_list(my_list2.node_head)\n",
    "my_list2.remove(2)\n",
    "print(\"removido\")\n",
    "my_list2.print_list(my_list2.node_head)\n"
   ]
  },
  {
   "cell_type": "markdown",
   "metadata": {},
   "source": [
    "- Remover um determinado elemento da lista usando recursão"
   ]
  },
  {
   "cell_type": "code",
   "execution_count": null,
   "metadata": {},
   "outputs": [],
   "source": [
    "n4 = Node(4)\n",
    "my_list1.setInitNode(n4)\n",
    "n5 = Node(5)\n",
    "my_list1.setInitNode(n5)\n",
    "my_list1.print_list(my_list1.node_head)\n"
   ]
  },
  {
   "cell_type": "code",
   "execution_count": null,
   "metadata": {},
   "outputs": [],
   "source": [
    "my_list1.remove(5, my_list1.node_head)\n",
    "print(\"removido o primeiro\")\n",
    "my_list1.print_list(my_list1.node_head)\n",
    "my_list1.remove(2, my_list1.node_head)\n",
    "print(\"removido o utimo\")\n",
    "my_list1.print_list(my_list1.node_head)\n",
    "my_list1.remove(3, my_list1.node_head)\n",
    "print(\"removido o meio\")\n",
    "my_list1.print_list(my_list1.node_head)"
   ]
  },
  {
   "cell_type": "markdown",
   "metadata": {},
   "source": [
    "- Liberar a lista"
   ]
  },
  {
   "cell_type": "code",
   "execution_count": null,
   "metadata": {},
   "outputs": [],
   "source": [
    "my_list1.free_list(my_list1.node_head)\n",
    "my_list1.print_list(my_list1.node_head)"
   ]
  },
  {
   "cell_type": "markdown",
   "metadata": {},
   "source": [
    "- Comaparar duas listas"
   ]
  },
  {
   "cell_type": "code",
   "execution_count": null,
   "metadata": {},
   "outputs": [],
   "source": [
    "list1 = List()\n",
    "list2 = List()\n",
    "\n",
    "n1 = Node(1)\n",
    "n2 = Node(2)\n",
    "\n",
    "list1.setNode(n1)\n",
    "list2.setNode(n1)\n",
    "list1.compare(list1, list2)\n",
    "\n",
    "list1.setNode(n2)\n",
    "list1.compare(list1, list2)"
   ]
  },
  {
   "cell_type": "code",
   "execution_count": null,
   "metadata": {},
   "outputs": [],
   "source": []
  }
 ],
 "metadata": {
  "kernelspec": {
   "display_name": "Python 3",
   "language": "python",
   "name": "python3"
  },
  "language_info": {
   "codemirror_mode": {
    "name": "ipython",
    "version": 3
   },
   "file_extension": ".py",
   "mimetype": "text/x-python",
   "name": "python",
   "nbconvert_exporter": "python",
   "pygments_lexer": "ipython3",
   "version": "3.7.3"
  }
 },
 "nbformat": 4,
 "nbformat_minor": 2
}
