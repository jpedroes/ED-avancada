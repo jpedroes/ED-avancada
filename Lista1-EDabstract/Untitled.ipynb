{
 "cells": [
  {
   "cell_type": "markdown",
   "metadata": {},
   "source": [
    "# Tads e Listas\n",
    "\n"
   ]
  },
  {
   "cell_type": "markdown",
   "metadata": {},
   "source": [
    "**Q1** Implemente um TAD para representar uma lista encadeada capaz de armazenar valores inteiros. Esse TAD deverá conter funções para:"
   ]
  },
  {
   "cell_type": "code",
   "execution_count": 146,
   "metadata": {},
   "outputs": [],
   "source": [
    "class Node(object):\n",
    "    def __init__(self, value=None):\n",
    "        self.info = value\n",
    "        self.next = None\n",
    "    \n",
    "class List:\n",
    "    def __init__(self):\n",
    "        self.node_head = None    \n",
    "    \n",
    "    \n",
    "    def is_empy(self):\n",
    "        if self.node_head is None:\n",
    "            return 1\n",
    "        return 0\n",
    "    \n",
    "    def setInitNode(self, node):\n",
    "        #new_node = Node()\n",
    "        if self.node_head is None:\n",
    "            #new_node.info = value\n",
    "            #node.next = None\n",
    "            self.node_head = node\n",
    "        else:\n",
    "            #new_node.info = node\n",
    "            node.next = self.node_head\n",
    "            self.node_head = node\n",
    "            \n",
    "    def print_list(self, node):\n",
    "        if node is None:\n",
    "            print(\"nó invalido\")\n",
    "        else:\n",
    "            print (node.info)\n",
    "            if not(node.next is None):\n",
    "                self.print_list(self.node_head.next)\n",
    "            \n",
    "    def print_reverse(self, node):\n",
    "        if node is None:\n",
    "            print(\"nó invalido\")\n",
    "        else:\n",
    "            if not(node.next is None):\n",
    "                self.print_list(self.node_head.next)\n",
    "            print (node.info)\n",
    "        \n",
    "            \n",
    "    "
   ]
  },
  {
   "cell_type": "markdown",
   "metadata": {},
   "source": [
    "- Criar uma lista vazia\n"
   ]
  },
  {
   "cell_type": "code",
   "execution_count": 147,
   "metadata": {},
   "outputs": [
    {
     "name": "stdout",
     "output_type": "stream",
     "text": [
      "<__main__.List object at 0x0000020945B59588>\n"
     ]
    }
   ],
   "source": [
    "my_list = List()\n",
    "print(my_list)"
   ]
  },
  {
   "cell_type": "markdown",
   "metadata": {},
   "source": [
    "- Inserir elemento no início;"
   ]
  },
  {
   "cell_type": "code",
   "execution_count": 148,
   "metadata": {},
   "outputs": [],
   "source": [
    "my_list1 = List()\n",
    "node1 = Node(2)\n",
    "node2 = Node(1)\n",
    "my_list1.setInitNode(node1)\n",
    "my_list1.setInitNode(node2)\n"
   ]
  },
  {
   "cell_type": "markdown",
   "metadata": {},
   "source": [
    "- Imprimir os valores armazenados na lista usando recursão"
   ]
  },
  {
   "cell_type": "code",
   "execution_count": 149,
   "metadata": {},
   "outputs": [
    {
     "name": "stdout",
     "output_type": "stream",
     "text": [
      "1\n",
      "2\n"
     ]
    }
   ],
   "source": [
    "my_list1.print_list(my_list1.node_head)"
   ]
  },
  {
   "cell_type": "markdown",
   "metadata": {},
   "source": [
    "- Imprimir os valores armazenados na lista em ordem reversa"
   ]
  },
  {
   "cell_type": "code",
   "execution_count": 150,
   "metadata": {},
   "outputs": [
    {
     "name": "stdout",
     "output_type": "stream",
     "text": [
      "2\n",
      "1\n"
     ]
    }
   ],
   "source": [
    "my_list1.print_reverse(my_list1.node_head)"
   ]
  },
  {
   "cell_type": "markdown",
   "metadata": {},
   "source": [
    "- Verificar se a lista está vazia (retorna 1 se vazia ou 0 se não vazia)"
   ]
  },
  {
   "cell_type": "code",
   "execution_count": 151,
   "metadata": {},
   "outputs": [
    {
     "name": "stdout",
     "output_type": "stream",
     "text": [
      "nó invalido\n"
     ]
    },
    {
     "ename": "AttributeError",
     "evalue": "'List' object has no attribute 'is_empty'",
     "output_type": "error",
     "traceback": [
      "\u001b[1;31m---------------------------------------------------------------------------\u001b[0m",
      "\u001b[1;31mAttributeError\u001b[0m                            Traceback (most recent call last)",
      "\u001b[1;32m<ipython-input-151-3ccb5e7cfc42>\u001b[0m in \u001b[0;36m<module>\u001b[1;34m\u001b[0m\n\u001b[0;32m      1\u001b[0m \u001b[0mmy_list\u001b[0m\u001b[1;33m.\u001b[0m\u001b[0mprint_list\u001b[0m\u001b[1;33m(\u001b[0m\u001b[0mmy_list\u001b[0m\u001b[1;33m.\u001b[0m\u001b[0mnode_head\u001b[0m\u001b[1;33m)\u001b[0m\u001b[1;33m\u001b[0m\u001b[1;33m\u001b[0m\u001b[0m\n\u001b[1;32m----> 2\u001b[1;33m \u001b[0mmy_list\u001b[0m\u001b[1;33m.\u001b[0m\u001b[0mis_empty\u001b[0m\u001b[1;33m(\u001b[0m\u001b[1;33m)\u001b[0m\u001b[1;33m\u001b[0m\u001b[1;33m\u001b[0m\u001b[0m\n\u001b[0m\u001b[0;32m      3\u001b[0m \u001b[0mprint\u001b[0m\u001b[1;33m(\u001b[0m\u001b[1;34m\"não vazio\"\u001b[0m\u001b[1;33m)\u001b[0m\u001b[1;33m\u001b[0m\u001b[1;33m\u001b[0m\u001b[0m\n\u001b[0;32m      4\u001b[0m \u001b[1;31m#my_list1.is_void()\u001b[0m\u001b[1;33m\u001b[0m\u001b[1;33m\u001b[0m\u001b[1;33m\u001b[0m\u001b[0m\n",
      "\u001b[1;31mAttributeError\u001b[0m: 'List' object has no attribute 'is_empty'"
     ]
    }
   ],
   "source": [
    "my_list.print_list(my_list.node_head)\n",
    "my_list.is_empty()\n",
    "print(\"não vazio\")\n",
    "#my_list1.is_void()"
   ]
  },
  {
   "cell_type": "code",
   "execution_count": null,
   "metadata": {},
   "outputs": [],
   "source": []
  }
 ],
 "metadata": {
  "kernelspec": {
   "display_name": "Python 3",
   "language": "python",
   "name": "python3"
  },
  "language_info": {
   "codemirror_mode": {
    "name": "ipython",
    "version": 3
   },
   "file_extension": ".py",
   "mimetype": "text/x-python",
   "name": "python",
   "nbconvert_exporter": "python",
   "pygments_lexer": "ipython3",
   "version": "3.7.3"
  }
 },
 "nbformat": 4,
 "nbformat_minor": 2
}
