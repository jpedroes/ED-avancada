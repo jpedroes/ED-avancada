{
 "cells": [
  {
   "cell_type": "markdown",
   "metadata": {},
   "source": [
    "# Tads e Listas\n",
    "\n"
   ]
  },
  {
   "cell_type": "markdown",
   "metadata": {},
   "source": [
    "**Q5** Implemente um TAD para representar uma lista encadeada circular (duplamente encadeada) capaz de armazenar valores inteiros. Esse TAD deverá conter funções para:"
   ]
  },
  {
   "cell_type": "code",
   "execution_count": 49,
   "metadata": {},
   "outputs": [],
   "source": [
    "class Node:\n",
    "    def __init__(self, value=None):\n",
    "        self.info = value\n",
    "        self.next = None\n",
    "        self.pre = None\n",
    "\n",
    "    def __del__(self):\n",
    "        print (\"deleted\")\n",
    "    \n",
    "class List:\n",
    "    def __init__(self):\n",
    "        self.node_head = None    \n",
    "        \n",
    "    #inserção recursiva\n",
    "    def setNode(self, node):\n",
    "        if self.node_head == None:\n",
    "            node.next = node\n",
    "            self.node_head = node\n",
    "            return\n",
    "        else:\n",
    "            itr = self.node_head\n",
    "\n",
    "            while True:\n",
    "                \n",
    "                if(itr.next is self.node_head):\n",
    "                    node.next = self.node_head\n",
    "                    itr.next = node\n",
    "                    self.node_head.pre = node\n",
    "                    node.pre = itr\n",
    "                    break\n",
    "                itr = itr.next    \n",
    "            \n",
    "    def print_w(self):\n",
    "        itr = self.node_head\n",
    "        while True:\n",
    "            print(itr.info)\n",
    "            itr = itr.next\n",
    "            if(itr is self.node_head):\n",
    "                break\n",
    "    \n",
    "                \n",
    "    def print_list(self, node):\n",
    "        if node is self.node_head:\n",
    "            print(node.info)\n",
    "        else:\n",
    "            print(node.info)\n",
    "        if not(node.next is self.node_head):\n",
    "            self.print_list(node.next)\n",
    "            \n",
    "    def print_reverse(self, node):\n",
    "        if not(node is None):\n",
    "            self.print_reverse(node.next)\n",
    "            print(node.info)\n",
    "        \n",
    "    def is_empty(self):\n",
    "        print(self.node_head)\n",
    "        if self.node_head is None:\n",
    "            return 1\n",
    "        return 0    \n",
    "    \n",
    "    def find(self, value, node):\n",
    "        if node is None:\n",
    "            print(\"nó invalido ou não encontrado\")\n",
    "            return None\n",
    "        else:\n",
    "            if node.info is value:\n",
    "                return value\n",
    "            elif not(node.next is self.node_head):\n",
    "                return self.find(value, node.next)\n",
    "            else:\n",
    "                print(\"não encontrado\")\n",
    "                return None\n",
    "    \n",
    "    def remove_rec(self, value, node, ant=None, flag = None):\n",
    "        ant = node.pre\n",
    "        if node is None:\n",
    "            print(\"nó invalido ou não encontrado\")\n",
    "            return None\n",
    "        else:\n",
    "            if self.node_head is self.node_head.next:\n",
    "                if value is node.info:\n",
    "                    self.node_head = None\n",
    "                    return\n",
    "                else:\n",
    "                    return\n",
    "            \n",
    "            elif node.info is value:\n",
    "                #if node is self.node_head:\n",
    "                #  self.node_head = node.next\n",
    "                \n",
    "                ant.next = node.next\n",
    "                node.next.pre = ant \n",
    "                if self.node_head is node:\n",
    "                    self.node_head = self.node_head.next\n",
    "                return    \n",
    "            \n",
    "            #elif (not(node.next is self.node_head.next) and pre is None) or \n",
    "            elif not(node.next is self.node_head):\n",
    "                self.remove_rec(value, node.next, node)\n",
    "                return\n",
    "    \n",
    "                \n",
    "    \n",
    "    def remove(self, value):\n",
    "        node = self.node_head\n",
    "        if node is None:\n",
    "            print(\"nó invalido ou não encontrado\")\n",
    "            return None\n",
    "        elif node.next is self.node_head:\n",
    "            if node.info is value:\n",
    "                self.node_head = None\n",
    "            else:\n",
    "                print(\"nó invalido ou não encontrado\")\n",
    "        \n",
    "            while True:\n",
    "                if node.info is value:\n",
    "                    node.pre.next = node.next\n",
    "                    node.next.pre = node.pre\n",
    "                    \n",
    "                node = node.next\n",
    "                if(node is self.node_head):\n",
    "                    break\n",
    "                    \n",
    "    def free_list(self, node):\n",
    "        if node is None:\n",
    "            print(\"nó invalido\")\n",
    "            return None\n",
    "        else:\n",
    "            if not(node.next is self.node_head):\n",
    "                self.free_list(node.next)\n",
    "            del node"
   ]
  },
  {
   "cell_type": "markdown",
   "metadata": {},
   "source": [
    "- Criar uma lista vazia\n"
   ]
  },
  {
   "cell_type": "code",
   "execution_count": 50,
   "metadata": {},
   "outputs": [
    {
     "name": "stdout",
     "output_type": "stream",
     "text": [
      "<__main__.List object at 0x0000017C94661668>\n"
     ]
    }
   ],
   "source": [
    "my_list = List()\n",
    "print(my_list)"
   ]
  },
  {
   "cell_type": "markdown",
   "metadata": {},
   "source": [
    "- Inserir elemento no início;"
   ]
  },
  {
   "cell_type": "code",
   "execution_count": 51,
   "metadata": {},
   "outputs": [
    {
     "name": "stdout",
     "output_type": "stream",
     "text": [
      "deleted\n"
     ]
    }
   ],
   "source": [
    "my_list1 = List()\n",
    "node1 = Node(2)\n",
    "node2 = Node(1)\n",
    "node3 = Node(3)\n",
    "my_list1.setNode(node1)\n",
    "my_list1.setNode(node2)\n",
    "my_list1.setNode(node3)"
   ]
  },
  {
   "cell_type": "markdown",
   "metadata": {},
   "source": [
    "- Imprimir os valores armazenados na lista usando recursão"
   ]
  },
  {
   "cell_type": "code",
   "execution_count": 52,
   "metadata": {},
   "outputs": [
    {
     "name": "stdout",
     "output_type": "stream",
     "text": [
      "2\n",
      "1\n",
      "3\n"
     ]
    }
   ],
   "source": [
    "my_list1.print_w()"
   ]
  },
  {
   "cell_type": "markdown",
   "metadata": {},
   "source": [
    "- Imprimir os valores armazenados na lista usando recursão"
   ]
  },
  {
   "cell_type": "code",
   "execution_count": 53,
   "metadata": {},
   "outputs": [
    {
     "name": "stdout",
     "output_type": "stream",
     "text": [
      "2\n",
      "1\n",
      "3\n"
     ]
    }
   ],
   "source": [
    "my_list1.print_list(my_list1.node_head)"
   ]
  },
  {
   "cell_type": "markdown",
   "metadata": {},
   "source": [
    "- Verificar se a lista está vazia (retorna 1 se vazia ou 0 se não vazia)"
   ]
  },
  {
   "cell_type": "code",
   "execution_count": 42,
   "metadata": {},
   "outputs": [
    {
     "name": "stdout",
     "output_type": "stream",
     "text": [
      "None\n",
      "1\n",
      "<__main__.Node object at 0x0000017C948FBE48>\n",
      "0\n"
     ]
    }
   ],
   "source": [
    "print(my_list.is_empty())\n",
    "print(my_list1.is_empty())\n"
   ]
  },
  {
   "cell_type": "markdown",
   "metadata": {},
   "source": [
    "- Recuperar/Buscar um determinado elemento da lista"
   ]
  },
  {
   "cell_type": "code",
   "execution_count": 43,
   "metadata": {},
   "outputs": [
    {
     "name": "stdout",
     "output_type": "stream",
     "text": [
      "1\n",
      "não encontrado\n",
      "None\n"
     ]
    }
   ],
   "source": [
    "n3 = Node(3)\n",
    "my_list1.setNode(n3)\n",
    "print(my_list1.find(1,  my_list1.node_head))\n",
    "print(my_list1.find(77, my_list1.node_head))\n",
    "\n"
   ]
  },
  {
   "cell_type": "markdown",
   "metadata": {},
   "source": [
    "- Remover um determinado elemento da lista"
   ]
  },
  {
   "cell_type": "code",
   "execution_count": 44,
   "metadata": {},
   "outputs": [
    {
     "name": "stdout",
     "output_type": "stream",
     "text": [
      "3\n",
      "2\n",
      "removido\n",
      "3\n",
      "2\n"
     ]
    }
   ],
   "source": [
    "my_list2 = List()\n",
    "no1 = Node(3)\n",
    "my_list2.setNode(no1)\n",
    "no2 = Node(2)\n",
    "my_list2.setNode(no2)\n",
    "my_list2.print_list(my_list2.node_head)\n",
    "my_list2.remove(2)\n",
    "print(\"removido\")\n",
    "my_list2.print_list(my_list2.node_head)\n"
   ]
  },
  {
   "cell_type": "markdown",
   "metadata": {},
   "source": [
    "- Remover um determinado elemento da lista usando recursão"
   ]
  },
  {
   "cell_type": "code",
   "execution_count": 45,
   "metadata": {},
   "outputs": [
    {
     "name": "stdout",
     "output_type": "stream",
     "text": [
      "2\n",
      "1\n",
      "3\n",
      "3\n",
      "4\n",
      "5\n"
     ]
    }
   ],
   "source": [
    "n4 = Node(4)\n",
    "my_list1.setNode(n4)\n",
    "n5 = Node(5)\n",
    "my_list1.setNode(n5)\n",
    "my_list1.print_list(my_list1.node_head)\n"
   ]
  },
  {
   "cell_type": "code",
   "execution_count": 46,
   "metadata": {},
   "outputs": [
    {
     "name": "stdout",
     "output_type": "stream",
     "text": [
      "removido o primeiro\n",
      "2\n",
      "1\n",
      "3\n",
      "3\n",
      "4\n",
      "removido o utimo\n",
      "1\n",
      "3\n",
      "3\n",
      "4\n",
      "removido o meio\n",
      "1\n",
      "3\n",
      "4\n"
     ]
    }
   ],
   "source": [
    "my_list1.remove_rec(5, my_list1.node_head)\n",
    "print(\"removido o primeiro\")\n",
    "my_list1.print_w()\n",
    "my_list1.remove_rec(2, my_list1.node_head)\n",
    "print(\"removido o utimo\")\n",
    "my_list1.print_w()\n",
    "my_list1.remove_rec(3, my_list1.node_head)\n",
    "print(\"removido o meio\")\n",
    "my_list1.print_w()"
   ]
  },
  {
   "cell_type": "markdown",
   "metadata": {},
   "source": [
    "- Liberar a lista"
   ]
  },
  {
   "cell_type": "code",
   "execution_count": 48,
   "metadata": {},
   "outputs": [
    {
     "ename": "RecursionError",
     "evalue": "maximum recursion depth exceeded",
     "output_type": "error",
     "traceback": [
      "\u001b[1;31m---------------------------------------------------------------------------\u001b[0m",
      "\u001b[1;31mRecursionError\u001b[0m                            Traceback (most recent call last)",
      "\u001b[1;32m<ipython-input-48-48638f3a6d0a>\u001b[0m in \u001b[0;36m<module>\u001b[1;34m\u001b[0m\n\u001b[1;32m----> 1\u001b[1;33m \u001b[0mmy_list1\u001b[0m\u001b[1;33m.\u001b[0m\u001b[0mfree_list\u001b[0m\u001b[1;33m(\u001b[0m\u001b[0mmy_list1\u001b[0m\u001b[1;33m.\u001b[0m\u001b[0mnode_head\u001b[0m\u001b[1;33m)\u001b[0m\u001b[1;33m\u001b[0m\u001b[1;33m\u001b[0m\u001b[0m\n\u001b[0m\u001b[0;32m      2\u001b[0m \u001b[0mmy_list1\u001b[0m\u001b[1;33m.\u001b[0m\u001b[0mprint_w\u001b[0m\u001b[1;33m(\u001b[0m\u001b[1;33m)\u001b[0m\u001b[1;33m\u001b[0m\u001b[1;33m\u001b[0m\u001b[0m\n",
      "\u001b[1;32m<ipython-input-37-d429c9848a10>\u001b[0m in \u001b[0;36mfree_list\u001b[1;34m(self, node)\u001b[0m\n\u001b[0;32m    128\u001b[0m         \u001b[1;32melse\u001b[0m\u001b[1;33m:\u001b[0m\u001b[1;33m\u001b[0m\u001b[1;33m\u001b[0m\u001b[0m\n\u001b[0;32m    129\u001b[0m             \u001b[1;32mif\u001b[0m \u001b[1;32mnot\u001b[0m\u001b[1;33m(\u001b[0m\u001b[0mnode\u001b[0m\u001b[1;33m.\u001b[0m\u001b[0mnext\u001b[0m \u001b[1;32mis\u001b[0m \u001b[1;32mNone\u001b[0m\u001b[1;33m)\u001b[0m\u001b[1;33m:\u001b[0m\u001b[1;33m\u001b[0m\u001b[1;33m\u001b[0m\u001b[0m\n\u001b[1;32m--> 130\u001b[1;33m                 \u001b[0mself\u001b[0m\u001b[1;33m.\u001b[0m\u001b[0mfree_list\u001b[0m\u001b[1;33m(\u001b[0m\u001b[0mnode\u001b[0m\u001b[1;33m.\u001b[0m\u001b[0mnext\u001b[0m\u001b[1;33m)\u001b[0m\u001b[1;33m\u001b[0m\u001b[1;33m\u001b[0m\u001b[0m\n\u001b[0m\u001b[0;32m    131\u001b[0m             \u001b[1;32mdel\u001b[0m \u001b[0mnode\u001b[0m\u001b[1;33m\u001b[0m\u001b[1;33m\u001b[0m\u001b[0m\n\u001b[0;32m    132\u001b[0m \u001b[1;33m\u001b[0m\u001b[0m\n",
      "... last 1 frames repeated, from the frame below ...\n",
      "\u001b[1;32m<ipython-input-37-d429c9848a10>\u001b[0m in \u001b[0;36mfree_list\u001b[1;34m(self, node)\u001b[0m\n\u001b[0;32m    128\u001b[0m         \u001b[1;32melse\u001b[0m\u001b[1;33m:\u001b[0m\u001b[1;33m\u001b[0m\u001b[1;33m\u001b[0m\u001b[0m\n\u001b[0;32m    129\u001b[0m             \u001b[1;32mif\u001b[0m \u001b[1;32mnot\u001b[0m\u001b[1;33m(\u001b[0m\u001b[0mnode\u001b[0m\u001b[1;33m.\u001b[0m\u001b[0mnext\u001b[0m \u001b[1;32mis\u001b[0m \u001b[1;32mNone\u001b[0m\u001b[1;33m)\u001b[0m\u001b[1;33m:\u001b[0m\u001b[1;33m\u001b[0m\u001b[1;33m\u001b[0m\u001b[0m\n\u001b[1;32m--> 130\u001b[1;33m                 \u001b[0mself\u001b[0m\u001b[1;33m.\u001b[0m\u001b[0mfree_list\u001b[0m\u001b[1;33m(\u001b[0m\u001b[0mnode\u001b[0m\u001b[1;33m.\u001b[0m\u001b[0mnext\u001b[0m\u001b[1;33m)\u001b[0m\u001b[1;33m\u001b[0m\u001b[1;33m\u001b[0m\u001b[0m\n\u001b[0m\u001b[0;32m    131\u001b[0m             \u001b[1;32mdel\u001b[0m \u001b[0mnode\u001b[0m\u001b[1;33m\u001b[0m\u001b[1;33m\u001b[0m\u001b[0m\n\u001b[0;32m    132\u001b[0m \u001b[1;33m\u001b[0m\u001b[0m\n",
      "\u001b[1;31mRecursionError\u001b[0m: maximum recursion depth exceeded"
     ]
    }
   ],
   "source": [
    "my_list1.free_list(my_list1.node_head)\n",
    "my_list1.print_w()"
   ]
  },
  {
   "cell_type": "markdown",
   "metadata": {},
   "source": [
    "- Comaparar duas listas"
   ]
  },
  {
   "cell_type": "code",
   "execution_count": null,
   "metadata": {},
   "outputs": [],
   "source": []
  },
  {
   "cell_type": "code",
   "execution_count": null,
   "metadata": {},
   "outputs": [],
   "source": []
  }
 ],
 "metadata": {
  "kernelspec": {
   "display_name": "Python 3",
   "language": "python",
   "name": "python3"
  },
  "language_info": {
   "codemirror_mode": {
    "name": "ipython",
    "version": 3
   },
   "file_extension": ".py",
   "mimetype": "text/x-python",
   "name": "python",
   "nbconvert_exporter": "python",
   "pygments_lexer": "ipython3",
   "version": "3.7.3"
  }
 },
 "nbformat": 4,
 "nbformat_minor": 2
}
