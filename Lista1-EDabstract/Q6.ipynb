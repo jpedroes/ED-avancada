{
 "cells": [
  {
   "cell_type": "markdown",
   "metadata": {},
   "source": [
    "# Tads e Listas\n",
    "\n"
   ]
  },
  {
   "cell_type": "markdown",
   "metadata": {},
   "source": [
    "**Q6** Implemente TADs para:\n",
    "- 1.Representar uma conta bancária, onde cada conta bancária possui um número e um saldo, além de funções para efetuar crédito e efetuar débito.\n",
    "- 2.Representar uma conta poupança, onde cada conta poupança possui um número e um saldo, além de funções para efetuar crédito, efetuar débito e render juros.\n",
    "- 3.Representar uma conta fidelidade, onde cada conta fidelidade possui um número, um saldo e um bônus, além de funções para efetuar crédito, efetuar débito e render bônus. Em uma conta fidelidade, a cada operação de crédito realizado, 1% do valor de creditado é acumulado ao bônus da conta. A função render bônus deve adicionar o valor do bônus no saldo da conta e, em seguida, zerar o valor do bônus."
   ]
  },
  {
   "cell_type": "code",
   "execution_count": 73,
   "metadata": {},
   "outputs": [],
   "source": [
    "class Banco:\n",
    "    def __init__(self):\n",
    "        self.contas = []\n",
    "        \n",
    "    def insere(self, conta):\n",
    "        self.contas.append(conta)\n",
    "        \n",
    "    def creditar(self, conta, valor):\n",
    "        for c in self.contas:\n",
    "            if c._numero is conta._numero:\n",
    "                c.creditar(valor)\n",
    "                return\n",
    "            \n",
    "    def debitar(self, conta, valor):\n",
    "        for c in self.contas:\n",
    "            if c._numero is conta._numero:\n",
    "                c.debitar(valor)\n",
    "                return            \n",
    "    \n",
    "    def consulta_saldo(self, conta):\n",
    "        for c in self.contas:\n",
    "            if c._numero is conta._numero:\n",
    "                print(c._saldo)\n",
    "        \n",
    "    def consulta_bonus(self, conta):\n",
    "        for c in self.contas:\n",
    "            if c._numero is conta._numero:\n",
    "                print(c._bonus)\n",
    "                \n",
    "    def buscar(self, conta):\n",
    "        for c in self.contas:\n",
    "            if c._numero is conta._numero:\n",
    "                return c\n",
    "    \n",
    "    def transfere(self, valor, conta1, conta2):\n",
    "        fonte = self.buscar(conta1)\n",
    "        favor = self.buscar(conta2)\n",
    "        fonte.debitar(valor)\n",
    "        favor.creditar(valor)\n",
    "        \n",
    "    def render_juro(self, conta):\n",
    "        for c in self.contas:\n",
    "            if c._numero is conta._numero:\n",
    "                c.render_juro()\n",
    "                \n",
    "    def render_bonus(self, conta):\n",
    "        for c in self.contas:\n",
    "            if c._numero is conta._numero:\n",
    "                c.render_bonus()\n",
    "                \n",
    "    def remover(self, c):\n",
    "        self.contas.remove(c)\n",
    "        \n",
    "    def imprimir_saldos(self):\n",
    "        for c in self.contas:\n",
    "                c.imprime_saldo()\n",
    "        \n",
    "class Conta:\n",
    "    def __init__(self, numero, saldo):\n",
    "        self._numero = numero\n",
    "        self._saldo = saldo\n",
    "     \n",
    "    def imprime(self):\n",
    "        print(self._numero)\n",
    "        print(self._saldo)\n",
    "    \n",
    "    def creditar(self, valor):\n",
    "        self._saldo = self._saldo + valor\n",
    "    \n",
    "    def debitar(self, valor):\n",
    "        self._saldo = self._saldo - valor\n",
    "        \n",
    "    def imprime_saldo(self):\n",
    "        print(self._saldo)\n",
    "        \n",
    "class Poupanca(Conta):\n",
    "    def __init__(self,numero, saldo, juro):\n",
    "        super().__init__(numero, saldo)\n",
    "        self._juro = juro\n",
    "        \n",
    "    def render_juro(self):\n",
    "        self._saldo = self._saldo + (self._saldo * self._juro)\n",
    "        \n",
    "class Fidelidade(Conta):\n",
    "    def __init__(self, numero, saldo, bonus):\n",
    "        super().__init__(numero, saldo)\n",
    "        self._bonus = bonus\n",
    "        \n",
    "    def render_bonus(self):\n",
    "        self._saldo = self._saldo + self._bonus\n",
    "        "
   ]
  },
  {
   "cell_type": "markdown",
   "metadata": {},
   "source": [
    "- Inserir uma Conta bancaria"
   ]
  },
  {
   "cell_type": "code",
   "execution_count": 74,
   "metadata": {},
   "outputs": [
    {
     "name": "stdout",
     "output_type": "stream",
     "text": [
      "1\n",
      "200\n"
     ]
    }
   ],
   "source": [
    "banco = Banco()\n",
    "c = Conta(1, 200)\n",
    "c.imprime()\n",
    "banco.insere(c)"
   ]
  },
  {
   "cell_type": "markdown",
   "metadata": {},
   "source": [
    "- Insere uma conta poupança"
   ]
  },
  {
   "cell_type": "code",
   "execution_count": 75,
   "metadata": {},
   "outputs": [
    {
     "name": "stdout",
     "output_type": "stream",
     "text": [
      "2\n",
      "400\n"
     ]
    }
   ],
   "source": [
    "p = Poupanca(2, 400, 0.1)\n",
    "p.imprime()\n",
    "banco.insere(p)\n"
   ]
  },
  {
   "cell_type": "markdown",
   "metadata": {},
   "source": [
    "- Inserir uma Conta fidelidade"
   ]
  },
  {
   "cell_type": "code",
   "execution_count": 76,
   "metadata": {},
   "outputs": [
    {
     "name": "stdout",
     "output_type": "stream",
     "text": [
      "3\n",
      "100\n"
     ]
    }
   ],
   "source": [
    "f = Fidelidade(3, 100, 10)\n",
    "f.imprime()\n",
    "banco.insere(f)"
   ]
  },
  {
   "cell_type": "markdown",
   "metadata": {},
   "source": [
    "- Creditar em Conta"
   ]
  },
  {
   "cell_type": "code",
   "execution_count": 77,
   "metadata": {},
   "outputs": [
    {
     "name": "stdout",
     "output_type": "stream",
     "text": [
      "2\n",
      "450\n"
     ]
    }
   ],
   "source": [
    "banco.creditar(p, 50)\n",
    "p.imprime()"
   ]
  },
  {
   "cell_type": "markdown",
   "metadata": {},
   "source": [
    "- Debitar em uma Conta"
   ]
  },
  {
   "cell_type": "code",
   "execution_count": 78,
   "metadata": {},
   "outputs": [
    {
     "name": "stdout",
     "output_type": "stream",
     "text": [
      "3\n",
      "50\n"
     ]
    }
   ],
   "source": [
    "banco.debitar(f, 50)\n",
    "f.imprime()"
   ]
  },
  {
   "cell_type": "markdown",
   "metadata": {},
   "source": [
    "- Consulta Saldo de uma conta"
   ]
  },
  {
   "cell_type": "code",
   "execution_count": 79,
   "metadata": {},
   "outputs": [
    {
     "name": "stdout",
     "output_type": "stream",
     "text": [
      "200\n"
     ]
    }
   ],
   "source": [
    "banco.consulta_saldo(c)"
   ]
  },
  {
   "cell_type": "markdown",
   "metadata": {},
   "source": [
    "- Consultar bonus fidelidade"
   ]
  },
  {
   "cell_type": "code",
   "execution_count": 80,
   "metadata": {},
   "outputs": [
    {
     "name": "stdout",
     "output_type": "stream",
     "text": [
      "10\n"
     ]
    }
   ],
   "source": [
    "banco.consulta_bonus(f)"
   ]
  },
  {
   "cell_type": "markdown",
   "metadata": {},
   "source": [
    "- Realizar transferencias entre contas"
   ]
  },
  {
   "cell_type": "code",
   "execution_count": 81,
   "metadata": {},
   "outputs": [
    {
     "name": "stdout",
     "output_type": "stream",
     "text": [
      "2\n",
      "350\n",
      "3\n",
      "150\n"
     ]
    }
   ],
   "source": [
    "banco.transfere(100, p, f)\n",
    "p.imprime()\n",
    "f.imprime()"
   ]
  },
  {
   "cell_type": "markdown",
   "metadata": {},
   "source": [
    "- render juro"
   ]
  },
  {
   "cell_type": "code",
   "execution_count": 82,
   "metadata": {},
   "outputs": [
    {
     "name": "stdout",
     "output_type": "stream",
     "text": [
      "2\n",
      "350\n",
      "2\n",
      "385.0\n"
     ]
    }
   ],
   "source": [
    "p.imprime()\n",
    "banco.render_juro(p)\n",
    "p.imprime()"
   ]
  },
  {
   "cell_type": "markdown",
   "metadata": {},
   "source": [
    "- render bonus"
   ]
  },
  {
   "cell_type": "code",
   "execution_count": 83,
   "metadata": {},
   "outputs": [
    {
     "name": "stdout",
     "output_type": "stream",
     "text": [
      "3\n",
      "150\n",
      "3\n",
      "160\n"
     ]
    }
   ],
   "source": [
    "f.imprime()\n",
    "banco.render_bonus(f)\n",
    "f.imprime()"
   ]
  },
  {
   "cell_type": "markdown",
   "metadata": {},
   "source": [
    "- Remover conta"
   ]
  },
  {
   "cell_type": "code",
   "execution_count": 84,
   "metadata": {},
   "outputs": [],
   "source": [
    "banco.remover(c)"
   ]
  },
  {
   "cell_type": "markdown",
   "metadata": {},
   "source": [
    "- Imprimir todos os saldos"
   ]
  },
  {
   "cell_type": "code",
   "execution_count": 85,
   "metadata": {},
   "outputs": [
    {
     "name": "stdout",
     "output_type": "stream",
     "text": [
      "385.0\n",
      "160\n"
     ]
    }
   ],
   "source": [
    "banco.imprimir_saldos()"
   ]
  },
  {
   "cell_type": "code",
   "execution_count": null,
   "metadata": {},
   "outputs": [],
   "source": []
  }
 ],
 "metadata": {
  "kernelspec": {
   "display_name": "Python 3",
   "language": "python",
   "name": "python3"
  },
  "language_info": {
   "codemirror_mode": {
    "name": "ipython",
    "version": 3
   },
   "file_extension": ".py",
   "mimetype": "text/x-python",
   "name": "python",
   "nbconvert_exporter": "python",
   "pygments_lexer": "ipython3",
   "version": "3.7.3"
  }
 },
 "nbformat": 4,
 "nbformat_minor": 2
}
