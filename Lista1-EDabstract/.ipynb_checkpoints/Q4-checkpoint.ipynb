{
 "cells": [
  {
   "cell_type": "markdown",
   "metadata": {},
   "source": [
    "# Tads e Listas\n",
    "\n"
   ]
  },
  {
   "cell_type": "markdown",
   "metadata": {},
   "source": [
    "**Q4** Implemente um TAD para representar uma lista encadeada circular (simplesmente encadeada) capaz de armazenar valores inteiros. Esse TAD deverá conter funções para:"
   ]
  },
  {
   "cell_type": "code",
   "execution_count": 1,
   "metadata": {},
   "outputs": [],
   "source": [
    "class Node:\n",
    "    def __init__(self, value=None):\n",
    "        self.info = value\n",
    "        self.next = None\n",
    "\n",
    "    def __del__(self):\n",
    "        print (\"deleted\")\n",
    "    \n",
    "class List:\n",
    "    def __init__(self):\n",
    "        self.node_head = None    \n",
    "        \n",
    "    def setNode(self, node):\n",
    "        if self.node_head == None:\n",
    "            node.next = node\n",
    "            self.node_head = node\n",
    "            return\n",
    "        else:\n",
    "            itr = self.node_head\n",
    "\n",
    "            while True:\n",
    "                \n",
    "                if(itr.next is self.node_head):\n",
    "                    node.next = self.node_head\n",
    "                    itr.next = node\n",
    "                    break\n",
    "                itr = itr.next    \n",
    "            \n",
    "    def print_w(self):\n",
    "        itr = self.node_head\n",
    "\n",
    "        while True:\n",
    "            print(itr.info)\n",
    "            itr = itr.next\n",
    "            if(itr is self.node_head):\n",
    "                break\n",
    "    \n",
    "                \n",
    "    def print_list(self, node):\n",
    "        if node is self.node_head:\n",
    "            print(node.info)\n",
    "        else:\n",
    "            print(node.info)\n",
    "        if not(node.next is self.node_head):\n",
    "            self.print_list(node.next)\n",
    "        #if not(node is None and node.next is self.node_head):\n",
    "         #   print(node.info)\n",
    "         #   self.print_list(node.next)\n",
    "            \n",
    "    def is_empty(self):\n",
    "        if self.node_head is None:\n",
    "            return 1\n",
    "        return 0    \n",
    "    \n",
    "    def find(self, value, node):\n",
    "        if node is None:\n",
    "            print(\"nó invalido ou não encontrado\")\n",
    "            return None\n",
    "        else:\n",
    "            if node.info is value:\n",
    "                return value\n",
    "            elif not(node.next is self.node_head):\n",
    "                return self.find(value, node.next)\n",
    "            else:\n",
    "                print(\"não encontrado\")\n",
    "                return None\n",
    "    ########FAZER ESSE AQUIIII##########\n",
    "    def remove_rec(self, value, node, pre=None, flag = 0):\n",
    "        if node is None:\n",
    "            print(\"nó invalido ou não encontrado\")\n",
    "            return None\n",
    "        else:\n",
    "            if self.node_head is self.node_head.next:\n",
    "                if value is node.info:\n",
    "                    self.node_head = None\n",
    "                    return\n",
    "                else:\n",
    "                    return\n",
    "            \n",
    "            elif self.node_head.info is value and pre is None:\n",
    "                self.node_head = self.node_head.next \n",
    "                flag = flag + 1\n",
    "\n",
    "            elif node.info is value and not(pre is None):\n",
    "                if node is self.node_head:\n",
    "                      self.node_head = node.next\n",
    "                \n",
    "                pre.next = node.next\n",
    "                return    \n",
    "            if flag is 0:\n",
    "                if not(node.next is self.node_head): # .next) and pre is None) or not(node.next is self.node_head):\n",
    "                    self.remove_rec(value, node.next, node, flag)\n",
    "                    return\n",
    "            elif flag >= 1:\n",
    "                if not(node.next is self.node_head.next.next) or flag < 2:# or not(node.next is self.node_head):\n",
    "                    self.remove_rec(value, node.next, node, flag)\n",
    "                    return\n",
    "            \n",
    "            else:\n",
    "                print(\"não encontrado\")\n",
    "                print(node.info)\n",
    "                print(node.next.info)\n",
    "                print(\"================\")\n",
    "                return\n",
    "    \n",
    "    def remove(self, value):\n",
    "        node = self.node_head\n",
    "        if node is None:\n",
    "            print(\"nó invalido ou não encontrado\")\n",
    "            return None\n",
    "        elif node.next is self.node_head:\n",
    "            if node.info is value:\n",
    "                self.node_head = None\n",
    "            else:\n",
    "                print(\"nó invalido ou não encontrado\")\n",
    "        #remoção no inicio ou fim: percorre a lista para ter o fim(itr) e o anterior ao fim(pre)\n",
    "        elif value is self.node_head.info:\n",
    "            pre = None\n",
    "            \n",
    "            while True:\n",
    "                pre = node\n",
    "                node = node.next\n",
    "                if(node is self.node_head):\n",
    "                    break\n",
    "            \n",
    "            node.next = self.node_head.next\n",
    "            self.node_head = node\n",
    "            \n",
    "            return\n",
    "        else:\n",
    "            pre = None\n",
    "            \n",
    "            while True:\n",
    "                if node.info is value:\n",
    "                    pre.next = node.next\n",
    "                pre = node\n",
    "                node = node.next\n",
    "                if(node is self.node_head):\n",
    "                    break\n",
    "                    \n",
    "    def free_list(self, node):\n",
    "        if node is None:\n",
    "            print(\"nó invalido\")\n",
    "            return None\n",
    "        else:\n",
    "            if not(node.next is self.node_head):\n",
    "                self.free_list(node.next)\n",
    "        node.next = None\n",
    "        node = None\n",
    "        self.node_head = None\n",
    "\n"
   ]
  },
  {
   "cell_type": "markdown",
   "metadata": {},
   "source": [
    "- Criar uma lista vazia\n"
   ]
  },
  {
   "cell_type": "code",
   "execution_count": 2,
   "metadata": {},
   "outputs": [
    {
     "name": "stdout",
     "output_type": "stream",
     "text": [
      "<__main__.List object at 0x000001499F7DD7F0>\n"
     ]
    }
   ],
   "source": [
    "my_list = List()\n",
    "print(my_list)"
   ]
  },
  {
   "cell_type": "markdown",
   "metadata": {},
   "source": [
    "- Inserir elemento no início;"
   ]
  },
  {
   "cell_type": "code",
   "execution_count": 3,
   "metadata": {},
   "outputs": [],
   "source": [
    "my_list1 = List()\n",
    "node1 = Node(2)\n",
    "node2 = Node(1)\n",
    "node3 = Node(3)\n",
    "my_list1.setNode(node1)\n",
    "my_list1.setNode(node2)\n",
    "my_list1.setNode(node3)\n"
   ]
  },
  {
   "cell_type": "markdown",
   "metadata": {},
   "source": [
    "- Imprimir os valores armazenados na lista usando recursão"
   ]
  },
  {
   "cell_type": "code",
   "execution_count": 4,
   "metadata": {},
   "outputs": [
    {
     "name": "stdout",
     "output_type": "stream",
     "text": [
      "2\n",
      "1\n",
      "3\n"
     ]
    }
   ],
   "source": [
    "my_list1.print_w()"
   ]
  },
  {
   "cell_type": "markdown",
   "metadata": {},
   "source": [
    "- Imprimir os valores armazenados na lista usando recursão"
   ]
  },
  {
   "cell_type": "code",
   "execution_count": 5,
   "metadata": {},
   "outputs": [
    {
     "name": "stdout",
     "output_type": "stream",
     "text": [
      "2\n",
      "1\n",
      "3\n"
     ]
    }
   ],
   "source": [
    "my_list1.print_list(my_list1.node_head)"
   ]
  },
  {
   "cell_type": "markdown",
   "metadata": {},
   "source": [
    "- Verificar se a lista está vazia (retorna 1 se vazia ou 0 se não vazia)"
   ]
  },
  {
   "cell_type": "code",
   "execution_count": 6,
   "metadata": {},
   "outputs": [
    {
     "name": "stdout",
     "output_type": "stream",
     "text": [
      "1\n",
      "0\n"
     ]
    }
   ],
   "source": [
    "print(my_list.is_empty())\n",
    "print(my_list1.is_empty())\n"
   ]
  },
  {
   "cell_type": "markdown",
   "metadata": {},
   "source": [
    "- Recuperar/Buscar um determinado elemento da lista"
   ]
  },
  {
   "cell_type": "code",
   "execution_count": 7,
   "metadata": {},
   "outputs": [
    {
     "name": "stdout",
     "output_type": "stream",
     "text": [
      "1\n",
      "não encontrado\n",
      "None\n"
     ]
    }
   ],
   "source": [
    "print(my_list1.find(1,  my_list1.node_head))\n",
    "print(my_list1.find(77, my_list1.node_head))\n",
    "\n"
   ]
  },
  {
   "cell_type": "markdown",
   "metadata": {},
   "source": [
    "- Remover um determinado elemento da lista"
   ]
  },
  {
   "cell_type": "code",
   "execution_count": 8,
   "metadata": {},
   "outputs": [
    {
     "name": "stdout",
     "output_type": "stream",
     "text": [
      "3\n",
      "2\n",
      "removido\n",
      "3\n"
     ]
    }
   ],
   "source": [
    "my_list2 = List()\n",
    "no1 = Node(3)\n",
    "my_list2.setNode(no1)\n",
    "no2 = Node(2)\n",
    "my_list2.setNode(no2)\n",
    "my_list2.print_list(my_list2.node_head)\n",
    "my_list2.remove(2)\n",
    "print(\"removido\")\n",
    "my_list2.print_list(my_list2.node_head)\n"
   ]
  },
  {
   "cell_type": "markdown",
   "metadata": {},
   "source": [
    "- Remover um determinado elemento da lista usando recursão"
   ]
  },
  {
   "cell_type": "code",
   "execution_count": 9,
   "metadata": {},
   "outputs": [
    {
     "name": "stdout",
     "output_type": "stream",
     "text": [
      "2\n",
      "1\n",
      "3\n",
      "4\n",
      "5\n"
     ]
    }
   ],
   "source": [
    "n4 = Node(4)\n",
    "my_list1.setNode(n4)\n",
    "n5 = Node(5)\n",
    "my_list1.setNode(n5)\n",
    "my_list1.print_list(my_list1.node_head)\n"
   ]
  },
  {
   "cell_type": "code",
   "execution_count": 10,
   "metadata": {},
   "outputs": [
    {
     "name": "stdout",
     "output_type": "stream",
     "text": [
      "2\n",
      "1\n",
      "3\n",
      "4\n",
      "5\n",
      "removido o primeiro\n",
      "1\n",
      "3\n",
      "4\n",
      "5\n",
      "removido o utimo\n",
      "1\n",
      "3\n",
      "4\n",
      "removido o meio\n",
      "1\n",
      "4\n"
     ]
    }
   ],
   "source": [
    "my_list1.print_list(my_list1.node_head)\n",
    "my_list1.remove_rec(2, my_list1.node_head)\n",
    "print(\"removido o primeiro\")\n",
    "my_list1.print_list(my_list1.node_head)\n",
    "my_list1.remove_rec(5, my_list1.node_head)\n",
    "print(\"removido o utimo\")\n",
    "my_list1.print_list(my_list1.node_head)\n",
    "my_list1.remove_rec(3, my_list1.node_head)\n",
    "print(\"removido o meio\")\n",
    "my_list1.print_list(my_list1.node_head)"
   ]
  },
  {
   "cell_type": "markdown",
   "metadata": {},
   "source": [
    "- Liberar a lista"
   ]
  },
  {
   "cell_type": "code",
   "execution_count": 14,
   "metadata": {},
   "outputs": [
    {
     "name": "stdout",
     "output_type": "stream",
     "text": [
      "nó invalido\n"
     ]
    },
    {
     "ename": "AttributeError",
     "evalue": "'NoneType' object has no attribute 'info'",
     "output_type": "error",
     "traceback": [
      "\u001b[1;31m---------------------------------------------------------------------------\u001b[0m",
      "\u001b[1;31mAttributeError\u001b[0m                            Traceback (most recent call last)",
      "\u001b[1;32m<ipython-input-14-c524f638e2d7>\u001b[0m in \u001b[0;36m<module>\u001b[1;34m\u001b[0m\n\u001b[0;32m      1\u001b[0m \u001b[0mmy_list1\u001b[0m\u001b[1;33m.\u001b[0m\u001b[0mfree_list\u001b[0m\u001b[1;33m(\u001b[0m\u001b[0mmy_list1\u001b[0m\u001b[1;33m.\u001b[0m\u001b[0mnode_head\u001b[0m\u001b[1;33m)\u001b[0m\u001b[1;33m\u001b[0m\u001b[1;33m\u001b[0m\u001b[0m\n\u001b[1;32m----> 2\u001b[1;33m \u001b[0mmy_list1\u001b[0m\u001b[1;33m.\u001b[0m\u001b[0mprint_list\u001b[0m\u001b[1;33m(\u001b[0m\u001b[0mmy_list1\u001b[0m\u001b[1;33m.\u001b[0m\u001b[0mnode_head\u001b[0m\u001b[1;33m)\u001b[0m\u001b[1;33m\u001b[0m\u001b[1;33m\u001b[0m\u001b[0m\n\u001b[0m",
      "\u001b[1;32m<ipython-input-1-b5164b59d85f>\u001b[0m in \u001b[0;36mprint_list\u001b[1;34m(self, node)\u001b[0m\n\u001b[0;32m     39\u001b[0m     \u001b[1;32mdef\u001b[0m \u001b[0mprint_list\u001b[0m\u001b[1;33m(\u001b[0m\u001b[0mself\u001b[0m\u001b[1;33m,\u001b[0m \u001b[0mnode\u001b[0m\u001b[1;33m)\u001b[0m\u001b[1;33m:\u001b[0m\u001b[1;33m\u001b[0m\u001b[1;33m\u001b[0m\u001b[0m\n\u001b[0;32m     40\u001b[0m         \u001b[1;32mif\u001b[0m \u001b[0mnode\u001b[0m \u001b[1;32mis\u001b[0m \u001b[0mself\u001b[0m\u001b[1;33m.\u001b[0m\u001b[0mnode_head\u001b[0m\u001b[1;33m:\u001b[0m\u001b[1;33m\u001b[0m\u001b[1;33m\u001b[0m\u001b[0m\n\u001b[1;32m---> 41\u001b[1;33m             \u001b[0mprint\u001b[0m\u001b[1;33m(\u001b[0m\u001b[0mnode\u001b[0m\u001b[1;33m.\u001b[0m\u001b[0minfo\u001b[0m\u001b[1;33m)\u001b[0m\u001b[1;33m\u001b[0m\u001b[1;33m\u001b[0m\u001b[0m\n\u001b[0m\u001b[0;32m     42\u001b[0m         \u001b[1;32melse\u001b[0m\u001b[1;33m:\u001b[0m\u001b[1;33m\u001b[0m\u001b[1;33m\u001b[0m\u001b[0m\n\u001b[0;32m     43\u001b[0m             \u001b[0mprint\u001b[0m\u001b[1;33m(\u001b[0m\u001b[0mnode\u001b[0m\u001b[1;33m.\u001b[0m\u001b[0minfo\u001b[0m\u001b[1;33m)\u001b[0m\u001b[1;33m\u001b[0m\u001b[1;33m\u001b[0m\u001b[0m\n",
      "\u001b[1;31mAttributeError\u001b[0m: 'NoneType' object has no attribute 'info'"
     ]
    }
   ],
   "source": [
    "my_list1.free_list(my_list1.node_head)\n",
    "my_list1.print_list(my_list1.node_head)"
   ]
  },
  {
   "cell_type": "code",
   "execution_count": null,
   "metadata": {},
   "outputs": [],
   "source": []
  },
  {
   "cell_type": "code",
   "execution_count": null,
   "metadata": {},
   "outputs": [],
   "source": []
  }
 ],
 "metadata": {
  "kernelspec": {
   "display_name": "Python 3",
   "language": "python",
   "name": "python3"
  },
  "language_info": {
   "codemirror_mode": {
    "name": "ipython",
    "version": 3
   },
   "file_extension": ".py",
   "mimetype": "text/x-python",
   "name": "python",
   "nbconvert_exporter": "python",
   "pygments_lexer": "ipython3",
   "version": "3.7.3"
  }
 },
 "nbformat": 4,
 "nbformat_minor": 2
}
