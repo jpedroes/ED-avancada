{
 "cells": [
  {
   "cell_type": "markdown",
   "metadata": {},
   "source": [
    "# Tads e Listas\n",
    "\n"
   ]
  },
  {
   "cell_type": "markdown",
   "metadata": {},
   "source": [
    "**Q6** Implemente TADs para:\n",
    "- 1.Representar uma conta bancária, onde cada conta bancária possui um número e um saldo, além de funções para efetuar crédito e efetuar débito.\n",
    "- 2.Representar uma conta poupança, onde cada conta poupança possui um número e um saldo, além de funções para efetuar crédito, efetuar débito e render juros.\n",
    "- 3.Representar uma conta fidelidade, onde cada conta fidelidade possui um número, um saldo e um bônus, além de funções para efetuar crédito, efetuar débito e render bônus. Em uma conta fidelidade, a cada operação de crédito realizado, 1% do valor de creditado é acumulado ao bônus da conta. A função render bônus deve adicionar o valor do bônus no saldo da conta e, em seguida, zerar o valor do bônus."
   ]
  },
  {
   "cell_type": "code",
   "execution_count": 1,
   "metadata": {},
   "outputs": [],
   "source": [
    "class Banco:\n",
    "    def __init__(self):\n",
    "        self.head = None\n",
    "        \n",
    "    def insere(self, conta):\n",
    "        if self.head == None:\n",
    "            self.head = conta\n",
    "        else:\n",
    "            conta.next = self.head\n",
    "            self.head = conta            \n",
    "        \n",
    "    def creditar(self, numero, valor):\n",
    "        itr = self.head\n",
    "        while itr != None:\n",
    "            if itr._numero is numero:\n",
    "                itr.creditar(valor)\n",
    "                return\n",
    "            itr = itr.next\n",
    "        print(\"Conta não encontrada\")\n",
    "        \n",
    "    def debitar(self, numero, valor):\n",
    "        itr = self.head\n",
    "        while not itr is None:\n",
    "            if itr._numero is numero:\n",
    "                itr.debitar(valor)\n",
    "                return            \n",
    "            itr = itr.next\n",
    "        print(\"Conta não encontrada\")\n",
    "    \n",
    "    def consulta_saldo(self, numero):\n",
    "        itr = self.head\n",
    "        while not itr is None:\n",
    "            if itr._numero is numero:\n",
    "                print(itr._saldo)\n",
    "                return            \n",
    "            itr = itr.next\n",
    "        print(\"Conta não encontrada\")\n",
    "        \n",
    "    def consulta_bonus(self, numero):\n",
    "        itr = self.head\n",
    "        while not itr is None:\n",
    "            if itr._numero is numero:\n",
    "                if itr._tipo is 2:\n",
    "                    print(itr._juro_fid)\n",
    "                    return\n",
    "                print(\"conta não é fidelidade\")\n",
    "                return\n",
    "            itr = itr.next\n",
    "        print(\"Conta não encontrada\")\n",
    "        \n",
    "    def buscar(self, numero):\n",
    "        itr = self.head\n",
    "        while not itr is None:\n",
    "            if itr._numero is numero:\n",
    "                return itr\n",
    "            itr = itr.next\n",
    "        print(\"Conta não encontrada\")\n",
    "        return None\n",
    "        \n",
    "    def transfere(self, valor, numero1, numero2):\n",
    "        fonte = self.buscar(numero1)\n",
    "        favor = self.buscar(numero2)\n",
    "        if (fonte is None) or (favor is None):\n",
    "            fonte.debitar(valor)\n",
    "            favor.creditar(valor)\n",
    "        \n",
    "    def render_juro(self, numero):\n",
    "        itr = self.head\n",
    "        while not itr is None:\n",
    "            if itr._numero is numero:\n",
    "                if itr._tipo is 1:\n",
    "                    itr.render_juro()\n",
    "                    return\n",
    "                print(\"Conta não poupança\")\n",
    "                return\n",
    "            itr = itr.next\n",
    "        print(\"Conta não encontrada\")\n",
    "        return None\n",
    "    \n",
    "                \n",
    "    def render_bonus(self, numero):\n",
    "        itr = self.head\n",
    "        while not itr is None:\n",
    "            if itr._numero is numero:\n",
    "                if itr._tipo is 2:\n",
    "                    itr.render_bonus()\n",
    "                    return\n",
    "                print(\"Conta não fidelidade\")\n",
    "                return\n",
    "            itr = itr.next\n",
    "        print(\"Conta não encontrada\")\n",
    "        return None\n",
    "            \n",
    "    def remover(self, numero):\n",
    "        itr = self.head\n",
    "        ant = None\n",
    "        if itr._numero is numero:\n",
    "            self.head = itr.next\n",
    "        else:   \n",
    "            ant = itr\n",
    "            itr = itr.next\n",
    "            while not itr is None:\n",
    "                if itr._numero is numero:\n",
    "                    ant.next = itr.next\n",
    "                    return\n",
    "                ant = itr\n",
    "                itr = itr.next\n",
    "            print(\"conta não encontrada\")\n",
    "    \n",
    "    def imprime_saldos(self):\n",
    "        itr = self.head\n",
    "        while not itr is None:\n",
    "            print(itr._numero)\n",
    "            print(itr._saldo)\n",
    "            itr = itr.next\n",
    "        print(\"fim\")\n",
    "    \n",
    "#1 PARA POUPANÇA 2 PARA FIDELIDADE, SEM PARAMENTRO É CONTA\n",
    "class Conta:\n",
    "    def __init__(self, numero, saldo, tipo = 0, juro_fid = None):\n",
    "        self._numero = numero\n",
    "        self._saldo = saldo\n",
    "        self._tipo = tipo\n",
    "        self.next = None\n",
    "        self._juro_fid = 0\n",
    "        if(tipo is 1):\n",
    "            self._juro_fid = juro_fid\n",
    "            print(\"poupança\")\n",
    "        elif tipo is 2:\n",
    "            self._juro_fid = juro_fid\n",
    "            print(\"fidelidade\")\n",
    "    \n",
    "    def creditar(self, valor):\n",
    "        self._saldo = self._saldo + valor\n",
    "    \n",
    "    def debitar(self, valor):\n",
    "        self._saldo = self._saldo - valor\n",
    "        \n",
    "    def imprime_saldo(self):\n",
    "        print(self._saldo)\n",
    "        \n",
    "    def render_juro(self):\n",
    "        self._saldo = self._saldo + (self._saldo * self._juro_fid)    \n",
    "    \n",
    "    def render_bonus(self):\n",
    "        self._saldo = self._saldo + self._juro_fid\n",
    "    "
   ]
  },
  {
   "cell_type": "markdown",
   "metadata": {},
   "source": [
    "- Inserir uma Conta bancaria"
   ]
  },
  {
   "cell_type": "code",
   "execution_count": 2,
   "metadata": {},
   "outputs": [
    {
     "name": "stdout",
     "output_type": "stream",
     "text": [
      "200\n"
     ]
    }
   ],
   "source": [
    "banco = Banco()\n",
    "c = Conta(1, 200, 0, None)\n",
    "c.imprime_saldo()\n",
    "banco.insere(c)"
   ]
  },
  {
   "cell_type": "markdown",
   "metadata": {},
   "source": [
    "- Insere uma conta poupança"
   ]
  },
  {
   "cell_type": "code",
   "execution_count": 3,
   "metadata": {},
   "outputs": [
    {
     "name": "stdout",
     "output_type": "stream",
     "text": [
      "poupança\n",
      "400\n"
     ]
    }
   ],
   "source": [
    "p = Conta(2, 400, 1, 0.1)\n",
    "p.imprime_saldo()\n",
    "banco.insere(p)\n"
   ]
  },
  {
   "cell_type": "markdown",
   "metadata": {},
   "source": [
    "- Inserir uma Conta fidelidade"
   ]
  },
  {
   "cell_type": "code",
   "execution_count": 4,
   "metadata": {},
   "outputs": [
    {
     "name": "stdout",
     "output_type": "stream",
     "text": [
      "fidelidade\n",
      "100\n"
     ]
    }
   ],
   "source": [
    "f = Conta(3, 100, 2, 10)\n",
    "f.imprime_saldo()\n",
    "banco.insere(f)"
   ]
  },
  {
   "cell_type": "markdown",
   "metadata": {},
   "source": [
    "- Creditar em Conta"
   ]
  },
  {
   "cell_type": "code",
   "execution_count": 5,
   "metadata": {},
   "outputs": [
    {
     "name": "stdout",
     "output_type": "stream",
     "text": [
      "450\n"
     ]
    }
   ],
   "source": [
    "banco.creditar(2, 50)\n",
    "p.imprime_saldo()"
   ]
  },
  {
   "cell_type": "markdown",
   "metadata": {},
   "source": [
    "- Debitar em uma Conta"
   ]
  },
  {
   "cell_type": "code",
   "execution_count": 6,
   "metadata": {},
   "outputs": [
    {
     "name": "stdout",
     "output_type": "stream",
     "text": [
      "50\n"
     ]
    }
   ],
   "source": [
    "banco.debitar(3, 50)\n",
    "f.imprime_saldo()"
   ]
  },
  {
   "cell_type": "markdown",
   "metadata": {},
   "source": [
    "- Consulta Saldo de uma conta"
   ]
  },
  {
   "cell_type": "code",
   "execution_count": 7,
   "metadata": {},
   "outputs": [
    {
     "name": "stdout",
     "output_type": "stream",
     "text": [
      "200\n"
     ]
    }
   ],
   "source": [
    "banco.consulta_saldo(1)"
   ]
  },
  {
   "cell_type": "markdown",
   "metadata": {},
   "source": [
    "- Consultar bonus fidelidade"
   ]
  },
  {
   "cell_type": "code",
   "execution_count": 8,
   "metadata": {},
   "outputs": [
    {
     "name": "stdout",
     "output_type": "stream",
     "text": [
      "10\n"
     ]
    }
   ],
   "source": [
    "banco.consulta_bonus(3)"
   ]
  },
  {
   "cell_type": "markdown",
   "metadata": {},
   "source": [
    "- Realizar transferencias entre contas"
   ]
  },
  {
   "cell_type": "code",
   "execution_count": 9,
   "metadata": {},
   "outputs": [
    {
     "name": "stdout",
     "output_type": "stream",
     "text": [
      "450\n",
      "50\n"
     ]
    }
   ],
   "source": [
    "banco.transfere(100, 2, 3)\n",
    "p.imprime_saldo()\n",
    "f.imprime_saldo()"
   ]
  },
  {
   "cell_type": "markdown",
   "metadata": {},
   "source": [
    "- render juro"
   ]
  },
  {
   "cell_type": "code",
   "execution_count": 10,
   "metadata": {},
   "outputs": [
    {
     "name": "stdout",
     "output_type": "stream",
     "text": [
      "450\n",
      "495.0\n"
     ]
    }
   ],
   "source": [
    "p.imprime_saldo()\n",
    "banco.render_juro(2)\n",
    "p.imprime_saldo()"
   ]
  },
  {
   "cell_type": "markdown",
   "metadata": {},
   "source": [
    "- render bonus"
   ]
  },
  {
   "cell_type": "code",
   "execution_count": 11,
   "metadata": {},
   "outputs": [
    {
     "name": "stdout",
     "output_type": "stream",
     "text": [
      "50\n",
      "60\n"
     ]
    }
   ],
   "source": [
    "f.imprime_saldo()\n",
    "banco.render_bonus(3)\n",
    "f.imprime_saldo()"
   ]
  },
  {
   "cell_type": "markdown",
   "metadata": {},
   "source": [
    "- Remover conta"
   ]
  },
  {
   "cell_type": "code",
   "execution_count": 12,
   "metadata": {},
   "outputs": [],
   "source": [
    "banco.remover(1)"
   ]
  },
  {
   "cell_type": "markdown",
   "metadata": {},
   "source": [
    "- Imprimir todos os saldos"
   ]
  },
  {
   "cell_type": "code",
   "execution_count": 13,
   "metadata": {},
   "outputs": [
    {
     "name": "stdout",
     "output_type": "stream",
     "text": [
      "3\n",
      "60\n",
      "2\n",
      "495.0\n",
      "fim\n"
     ]
    }
   ],
   "source": [
    "banco.imprime_saldos()"
   ]
  },
  {
   "cell_type": "code",
   "execution_count": null,
   "metadata": {},
   "outputs": [],
   "source": []
  }
 ],
 "metadata": {
  "kernelspec": {
   "display_name": "Python 3",
   "language": "python",
   "name": "python3"
  },
  "language_info": {
   "codemirror_mode": {
    "name": "ipython",
    "version": 3
   },
   "file_extension": ".py",
   "mimetype": "text/x-python",
   "name": "python",
   "nbconvert_exporter": "python",
   "pygments_lexer": "ipython3",
   "version": "3.7.3"
  }
 },
 "nbformat": 4,
 "nbformat_minor": 2
}
