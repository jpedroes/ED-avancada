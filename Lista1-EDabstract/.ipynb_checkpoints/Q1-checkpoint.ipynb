{
 "cells": [
  {
   "cell_type": "markdown",
   "metadata": {},
   "source": [
    "# Tads e Listas\n",
    "\n"
   ]
  },
  {
   "cell_type": "markdown",
   "metadata": {},
   "source": [
    "**Q1** Implemente um TAD para representar uma lista encadeada capaz de armazenar valores inteiros. Esse TAD deverá conter funções para:"
   ]
  },
  {
   "cell_type": "code",
   "execution_count": 38,
   "metadata": {},
   "outputs": [],
   "source": [
    "class Node:\n",
    "    def __init__(self, value=None):\n",
    "        self.info = value\n",
    "        self.next = None\n",
    "\n",
    "    def __del__(self):\n",
    "        print (\"deleted\")\n",
    "        \n",
    "    \n",
    "class List:\n",
    "    def __del__(self):\n",
    "        print (\"deleted\")\n",
    "    \n",
    "    def __init__(self):\n",
    "        self.node_head = None    \n",
    "    \n",
    "    def setInitNode(self, node):\n",
    "    \n",
    "        if self.node_head == None:\n",
    "            self.node_head = node\n",
    "        else:\n",
    "            node.next = self.node_head\n",
    "            self.node_head = node\n",
    "    \n",
    "    def print_w(self):\n",
    "        itr = self.node_head\n",
    "        while not(itr is None):\n",
    "            print(itr.info)\n",
    "            itr = itr.next\n",
    "    \n",
    "    def print_list(self, node):\n",
    "        if node is None:\n",
    "            print(\"nó invalido\")\n",
    "        else:\n",
    "            print (node.info)\n",
    "            if not(node.next is None):\n",
    "                self.print_list(node.next)\n",
    "            \n",
    "    def print_reverse(self, node):\n",
    "        if node is None:\n",
    "            print(\"nó invalido\")\n",
    "        else:\n",
    "            if not(node.next is None):\n",
    "                self.print_list(node.next)\n",
    "            print (node.info)\n",
    "        \n",
    "    def is_empty(self):\n",
    "        if self.node_head is None:\n",
    "            return 1\n",
    "        return 0    \n",
    "    \n",
    "    def find(self, value, node):\n",
    "        if node is None:\n",
    "            print(\"nó invalido ou não encontrado\")\n",
    "            return None\n",
    "        else:\n",
    "            if node.info is value:\n",
    "                return value\n",
    "            elif not(node.next is None):\n",
    "                return self.find(value, node.next)\n",
    "            else:\n",
    "                print(\"não encontrado\")\n",
    "                return None\n",
    "    \n",
    "    def remove_rec(self, value, node, pre=None):\n",
    "        if node is None:\n",
    "            print(\"nó invalido ou não encontrado\")\n",
    "            return None\n",
    "        else:\n",
    "            if node.info is value:\n",
    "                if pre is None:\n",
    "                    self.node_head = node.next\n",
    "                elif node.next is None:\n",
    "                    pre.next = None\n",
    "                else:\n",
    "                    pre.next = node.next\n",
    "                return    \n",
    "            if not(node.next is None):\n",
    "                self.remove_rec(value, node.next, node)\n",
    "            else:\n",
    "                print(\"não encontrado\")\n",
    "                \n",
    "    \n",
    "    def remove(self, value):\n",
    "        node = self.node_head\n",
    "        if node is None:\n",
    "            print(\"nó invalido ou não encontrado\")\n",
    "            return None\n",
    "        else:\n",
    "            pre = None\n",
    "            while not(node is None):\n",
    "                print(node.info)\n",
    "                if node.info is value:\n",
    "                    if pre is None:\n",
    "                        self.node_head = node.next\n",
    "                        node = None\n",
    "                    elif node.next is None:\n",
    "                        pre.next = None\n",
    "                        node = None\n",
    "                    else:\n",
    "                        pre.next = node.next\n",
    "                        node = None\n",
    "                else:\n",
    "                    if node.next is None:\n",
    "                        print(\"Não encontrado\")\n",
    "                        return\n",
    "                    else:\n",
    "                        pre = node\n",
    "                        node = node.next\n",
    "                    \n",
    "    def free_list(self, node):\n",
    "        if node is None:\n",
    "            print(\"nó invalido\")\n",
    "            return None\n",
    "        else:\n",
    "            if not(node.next is None):\n",
    "                self.free_list(node.next)\n",
    "        node.next = None\n",
    "        node = None\n",
    "        self.node_head = None\n"
   ]
  },
  {
   "cell_type": "markdown",
   "metadata": {},
   "source": [
    "- Criar uma lista vazia\n"
   ]
  },
  {
   "cell_type": "code",
   "execution_count": 39,
   "metadata": {},
   "outputs": [
    {
     "name": "stdout",
     "output_type": "stream",
     "text": [
      "deleted\n",
      "<__main__.List object at 0x000001BA78124470>\n"
     ]
    }
   ],
   "source": [
    "my_list = List()\n",
    "print(my_list)"
   ]
  },
  {
   "cell_type": "markdown",
   "metadata": {},
   "source": [
    "- Inserir elemento no início;"
   ]
  },
  {
   "cell_type": "code",
   "execution_count": 40,
   "metadata": {},
   "outputs": [
    {
     "name": "stdout",
     "output_type": "stream",
     "text": [
      "deleted\n",
      "deleted\n"
     ]
    }
   ],
   "source": [
    "my_list1 = List()\n",
    "node1 = Node(2)\n",
    "node2 = Node(1)\n",
    "my_list1.setInitNode(node1)\n",
    "my_list1.setInitNode(node2)"
   ]
  },
  {
   "cell_type": "markdown",
   "metadata": {},
   "source": [
    "- Imprimir os valores armazenados na lista"
   ]
  },
  {
   "cell_type": "code",
   "execution_count": 41,
   "metadata": {},
   "outputs": [
    {
     "name": "stdout",
     "output_type": "stream",
     "text": [
      "1\n",
      "2\n"
     ]
    }
   ],
   "source": [
    "my_list1.print_w()"
   ]
  },
  {
   "cell_type": "markdown",
   "metadata": {},
   "source": [
    "- Imprimir os valores armazenados na lista usando recursão"
   ]
  },
  {
   "cell_type": "code",
   "execution_count": 42,
   "metadata": {},
   "outputs": [
    {
     "name": "stdout",
     "output_type": "stream",
     "text": [
      "1\n",
      "2\n"
     ]
    }
   ],
   "source": [
    "my_list1.print_list(my_list1.node_head)"
   ]
  },
  {
   "cell_type": "markdown",
   "metadata": {},
   "source": [
    "- Imprimir os valores armazenados na lista em ordem reversa"
   ]
  },
  {
   "cell_type": "code",
   "execution_count": 43,
   "metadata": {},
   "outputs": [
    {
     "name": "stdout",
     "output_type": "stream",
     "text": [
      "2\n",
      "1\n"
     ]
    }
   ],
   "source": [
    "my_list1.print_reverse(my_list1.node_head)"
   ]
  },
  {
   "cell_type": "markdown",
   "metadata": {},
   "source": [
    "- Verificar se a lista está vazia (retorna 1 se vazia ou 0 se não vazia)"
   ]
  },
  {
   "cell_type": "code",
   "execution_count": 44,
   "metadata": {},
   "outputs": [
    {
     "name": "stdout",
     "output_type": "stream",
     "text": [
      "1\n",
      "0\n"
     ]
    }
   ],
   "source": [
    "print(my_list.is_empty())\n",
    "print(my_list1.is_empty())\n"
   ]
  },
  {
   "cell_type": "markdown",
   "metadata": {},
   "source": [
    "- Recuperar/Buscar um determinado elemento da lista"
   ]
  },
  {
   "cell_type": "code",
   "execution_count": 45,
   "metadata": {},
   "outputs": [
    {
     "name": "stdout",
     "output_type": "stream",
     "text": [
      "deleted\n",
      "deleted\n",
      "1\n",
      "não encontrado\n",
      "None\n"
     ]
    }
   ],
   "source": [
    "n3 = Node(3)\n",
    "my_list1.setInitNode(n3)\n",
    "print(my_list1.find(1,  my_list1.node_head))\n",
    "print(my_list1.find(77, my_list1.node_head))"
   ]
  },
  {
   "cell_type": "markdown",
   "metadata": {},
   "source": [
    "- Remover um determinado elemento da lista"
   ]
  },
  {
   "cell_type": "code",
   "execution_count": 46,
   "metadata": {},
   "outputs": [
    {
     "name": "stdout",
     "output_type": "stream",
     "text": [
      "deleted\n",
      "deleted\n",
      "deleted\n",
      "deleted\n",
      "2\n",
      "1\n",
      "3\n",
      "removendo...\n",
      "2\n",
      "removido\n",
      "1\n",
      "3\n"
     ]
    }
   ],
   "source": [
    "my_list2 = List()\n",
    "no1 = Node(3)\n",
    "my_list2.setInitNode(no1)\n",
    "no3 = Node(1)\n",
    "my_list2.setInitNode(no3)\n",
    "no2 = Node(2)\n",
    "my_list2.setInitNode(no2)\n",
    "my_list2.print_list(my_list2.node_head)\n",
    "print(\"removendo...\")\n",
    "my_list2.remove(2)\n",
    "print(\"removido\")\n",
    "my_list2.print_list(my_list2.node_head)\n"
   ]
  },
  {
   "cell_type": "markdown",
   "metadata": {},
   "source": [
    "- Remover um determinado elemento da lista usando recursão"
   ]
  },
  {
   "cell_type": "code",
   "execution_count": 47,
   "metadata": {},
   "outputs": [
    {
     "name": "stdout",
     "output_type": "stream",
     "text": [
      "deleted\n",
      "deleted\n",
      "5\n",
      "4\n",
      "3\n",
      "1\n",
      "2\n"
     ]
    }
   ],
   "source": [
    "n4 = Node(4)\n",
    "my_list1.setInitNode(n4)\n",
    "n5 = Node(5)\n",
    "my_list1.setInitNode(n5)\n",
    "my_list1.print_list(my_list1.node_head)\n"
   ]
  },
  {
   "cell_type": "code",
   "execution_count": 48,
   "metadata": {},
   "outputs": [
    {
     "name": "stdout",
     "output_type": "stream",
     "text": [
      "removido o primeiro\n",
      "4\n",
      "3\n",
      "1\n",
      "2\n",
      "removido o utimo\n",
      "4\n",
      "3\n",
      "1\n",
      "removido o meio\n",
      "4\n",
      "1\n"
     ]
    }
   ],
   "source": [
    "my_list1.remove_rec(5, my_list1.node_head)\n",
    "print(\"removido o primeiro\")\n",
    "my_list1.print_list(my_list1.node_head)\n",
    "my_list1.remove_rec(2, my_list1.node_head)\n",
    "print(\"removido o utimo\")\n",
    "my_list1.print_list(my_list1.node_head)\n",
    "my_list1.remove_rec(3, my_list1.node_head)\n",
    "print(\"removido o meio\")\n",
    "my_list1.print_list(my_list1.node_head)"
   ]
  },
  {
   "cell_type": "markdown",
   "metadata": {},
   "source": [
    "- Liberar a lista"
   ]
  },
  {
   "cell_type": "code",
   "execution_count": 49,
   "metadata": {},
   "outputs": [
    {
     "name": "stdout",
     "output_type": "stream",
     "text": [
      "nó invalido\n"
     ]
    }
   ],
   "source": [
    "my_list1.free_list(my_list1.node_head)\n",
    "my_list1.print_list(my_list1.node_head)"
   ]
  },
  {
   "cell_type": "code",
   "execution_count": null,
   "metadata": {},
   "outputs": [],
   "source": []
  }
 ],
 "metadata": {
  "kernelspec": {
   "display_name": "Python 3",
   "language": "python",
   "name": "python3"
  },
  "language_info": {
   "codemirror_mode": {
    "name": "ipython",
    "version": 3
   },
   "file_extension": ".py",
   "mimetype": "text/x-python",
   "name": "python",
   "nbconvert_exporter": "python",
   "pygments_lexer": "ipython3",
   "version": "3.7.3"
  }
 },
 "nbformat": 4,
 "nbformat_minor": 2
}
